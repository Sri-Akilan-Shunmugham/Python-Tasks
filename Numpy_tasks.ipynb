{
  "cells": [
    {
      "cell_type": "markdown",
      "metadata": {
        "id": "AZjS_SKMb_PU"
      },
      "source": [
        "# Numpy\n",
        "\n"
      ]
    },
    {
      "cell_type": "markdown",
      "metadata": {
        "id": "b--xFUNTb_PX"
      },
      "source": [
        "#### 1. Import the numpy package under the name `np` (★☆☆) \n",
        "(**hint**: import … as …)"
      ]
    },
    {
      "cell_type": "code",
      "execution_count": 1,
      "metadata": {
        "collapsed": true,
        "id": "PGCbCE7eb_PX"
      },
      "outputs": [],
      "source": [
        "import numpy as np"
      ]
    },
    {
      "cell_type": "markdown",
      "metadata": {
        "id": "RL4x7rb_b_PY"
      },
      "source": [
        "#### 2. Print the numpy version and the configuration (★☆☆) \n",
        "(**hint**: np.\\_\\_version\\_\\_, np.show\\_config)"
      ]
    },
    {
      "cell_type": "code",
      "execution_count": 2,
      "metadata": {
        "id": "tpdQdOdBb_PY",
        "colab": {
          "base_uri": "https://localhost:8080/"
        },
        "outputId": "76fc6b9b-0fb8-473b-8f86-0fb845c97d3a"
      },
      "outputs": [
        {
          "output_type": "stream",
          "name": "stdout",
          "text": [
            "version <module 'numpy.version' from '/usr/local/lib/python3.7/dist-packages/numpy/version.py'>\n",
            "config <function show at 0x7fde005eac20>\n"
          ]
        }
      ],
      "source": [
        "print(\"version\",np.version)\n",
        "print(\"config\",np.show_config)"
      ]
    },
    {
      "cell_type": "markdown",
      "metadata": {
        "id": "EIWR6Bvob_PY"
      },
      "source": [
        "#### 3. Create a null vector of size 10 (★☆☆) \n",
        "(**hint**: np.zeros)"
      ]
    },
    {
      "cell_type": "code",
      "execution_count": 3,
      "metadata": {
        "id": "TKsbVY7hb_PZ",
        "colab": {
          "base_uri": "https://localhost:8080/"
        },
        "outputId": "cbb9d32a-e7df-4599-b1a3-0a7f392f0563"
      },
      "outputs": [
        {
          "output_type": "stream",
          "name": "stdout",
          "text": [
            "[0. 0. 0. 0. 0. 0. 0. 0. 0. 0.]\n"
          ]
        }
      ],
      "source": [
        "x=np.zeros(10)\n",
        "print(x)"
      ]
    },
    {
      "cell_type": "markdown",
      "metadata": {
        "id": "2XyC4g39b_PZ"
      },
      "source": [
        "#### 4.  How to find the memory size of any array (★☆☆) \n",
        "(**hint**: size, itemsize)"
      ]
    },
    {
      "cell_type": "code",
      "execution_count": 6,
      "metadata": {
        "id": "iB8bfjKVb_Pa",
        "colab": {
          "base_uri": "https://localhost:8080/"
        },
        "outputId": "1c6b2403-34d2-4e6b-d694-6f0deab7ca2d"
      },
      "outputs": [
        {
          "output_type": "stream",
          "name": "stdout",
          "text": [
            "3\n",
            "8\n",
            "Memory size of numpy array in bytes: 24\n"
          ]
        }
      ],
      "source": [
        "x=np.array([100,20,34])\n",
        "a=x.size\n",
        "print(a)\n",
        "b=x.itemsize\n",
        "print(b)\n",
        "print(\"Memory size of numpy array in bytes:\",a*b)"
      ]
    },
    {
      "cell_type": "markdown",
      "metadata": {
        "id": "rmYvYhyob_Pa"
      },
      "source": [
        "#### 5.  How to get the documentation of the numpy add function from the command line? (★☆☆) \n",
        "(**hint**: np.info)"
      ]
    },
    {
      "cell_type": "code",
      "execution_count": 7,
      "metadata": {
        "collapsed": true,
        "id": "aLX-SNSIb_Pa",
        "colab": {
          "base_uri": "https://localhost:8080/"
        },
        "outputId": "c648a796-5591-4dea-bcda-3f6e79fe578e"
      },
      "outputs": [
        {
          "output_type": "stream",
          "name": "stdout",
          "text": [
            "add(x1, x2, /, out=None, *, where=True, casting='same_kind', order='K', dtype=None, subok=True[, signature, extobj])\n",
            "\n",
            "Add arguments element-wise.\n",
            "\n",
            "Parameters\n",
            "----------\n",
            "x1, x2 : array_like\n",
            "    The arrays to be added.\n",
            "    If ``x1.shape != x2.shape``, they must be broadcastable to a common\n",
            "    shape (which becomes the shape of the output).\n",
            "out : ndarray, None, or tuple of ndarray and None, optional\n",
            "    A location into which the result is stored. If provided, it must have\n",
            "    a shape that the inputs broadcast to. If not provided or None,\n",
            "    a freshly-allocated array is returned. A tuple (possible only as a\n",
            "    keyword argument) must have length equal to the number of outputs.\n",
            "where : array_like, optional\n",
            "    This condition is broadcast over the input. At locations where the\n",
            "    condition is True, the `out` array will be set to the ufunc result.\n",
            "    Elsewhere, the `out` array will retain its original value.\n",
            "    Note that if an uninitialized `out` array is created via the default\n",
            "    ``out=None``, locations within it where the condition is False will\n",
            "    remain uninitialized.\n",
            "**kwargs\n",
            "    For other keyword-only arguments, see the\n",
            "    :ref:`ufunc docs <ufuncs.kwargs>`.\n",
            "\n",
            "Returns\n",
            "-------\n",
            "add : ndarray or scalar\n",
            "    The sum of `x1` and `x2`, element-wise.\n",
            "    This is a scalar if both `x1` and `x2` are scalars.\n",
            "\n",
            "Notes\n",
            "-----\n",
            "Equivalent to `x1` + `x2` in terms of array broadcasting.\n",
            "\n",
            "Examples\n",
            "--------\n",
            ">>> np.add(1.0, 4.0)\n",
            "5.0\n",
            ">>> x1 = np.arange(9.0).reshape((3, 3))\n",
            ">>> x2 = np.arange(3.0)\n",
            ">>> np.add(x1, x2)\n",
            "array([[  0.,   2.,   4.],\n",
            "       [  3.,   5.,   7.],\n",
            "       [  6.,   8.,  10.]])\n",
            "\n",
            "The ``+`` operator can be used as a shorthand for ``np.add`` on ndarrays.\n",
            "\n",
            ">>> x1 = np.arange(9.0).reshape((3, 3))\n",
            ">>> x2 = np.arange(3.0)\n",
            ">>> x1 + x2\n",
            "array([[ 0.,  2.,  4.],\n",
            "       [ 3.,  5.,  7.],\n",
            "       [ 6.,  8., 10.]])\n"
          ]
        }
      ],
      "source": [
        "np.info(np.add)"
      ]
    },
    {
      "cell_type": "markdown",
      "metadata": {
        "id": "HXp7L9Uxb_Pb"
      },
      "source": [
        "#### 6.  Create a null vector of size 10 but the fifth value which is 1 (★☆☆) \n",
        "(**hint**: array\\[4\\])"
      ]
    },
    {
      "cell_type": "code",
      "execution_count": 8,
      "metadata": {
        "id": "OmGlOoxob_Pb",
        "colab": {
          "base_uri": "https://localhost:8080/"
        },
        "outputId": "acb49cf1-8bba-4632-f7f7-f06721759d3f"
      },
      "outputs": [
        {
          "output_type": "stream",
          "name": "stdout",
          "text": [
            "[0. 0. 0. 0. 1. 0. 0. 0. 0. 0.]\n"
          ]
        }
      ],
      "source": [
        "x=np.zeros(10)\n",
        "x[4]=1\n",
        "print(x)"
      ]
    },
    {
      "cell_type": "markdown",
      "metadata": {
        "id": "9Y_9mZXHb_Pb"
      },
      "source": [
        "#### 7.  Create a vector with values ranging from 10 to 49 (★☆☆) \n",
        "(**hint**: np.arange)"
      ]
    },
    {
      "cell_type": "code",
      "execution_count": 9,
      "metadata": {
        "id": "1W8lKcuYb_Pb",
        "colab": {
          "base_uri": "https://localhost:8080/"
        },
        "outputId": "c61696a4-8bb5-488a-e53d-d146d096a512"
      },
      "outputs": [
        {
          "output_type": "stream",
          "name": "stdout",
          "text": [
            "[10 11 12 13 14 15 16 17 18 19 20 21 22 23 24 25 26 27 28 29 30 31 32 33\n",
            " 34 35 36 37 38 39 40 41 42 43 44 45 46 47 48 49]\n"
          ]
        }
      ],
      "source": [
        "print(np.arange(10,50))"
      ]
    },
    {
      "cell_type": "markdown",
      "metadata": {
        "id": "lTt1AoaVb_Pb"
      },
      "source": [
        "#### 8.  Reverse a vector (first element becomes last) (★☆☆) \n",
        "(**hint**: array\\[::-1\\])"
      ]
    },
    {
      "cell_type": "code",
      "execution_count": 11,
      "metadata": {
        "id": "2JHShG-Xb_Pc",
        "colab": {
          "base_uri": "https://localhost:8080/"
        },
        "outputId": "71d4e592-7698-404a-dc19-468a2fa3fa91"
      },
      "outputs": [
        {
          "output_type": "stream",
          "name": "stdout",
          "text": [
            "[10 11 12 13 14 15]\n",
            "reverse vector: [15 14 13 12 11 10]\n"
          ]
        }
      ],
      "source": [
        "v=np.arange(10,16)\n",
        "print(v)\n",
        "print(\"reverse vector:\",v[::-1])"
      ]
    },
    {
      "cell_type": "markdown",
      "metadata": {
        "id": "bHlzsRtKb_Pc"
      },
      "source": [
        "#### 9.  Create a 3x3 matrix with values ranging from 0 to 8 (★☆☆) \n",
        "(**hint**: reshape)"
      ]
    },
    {
      "cell_type": "code",
      "execution_count": 12,
      "metadata": {
        "id": "GRoL8nXKb_Pc",
        "colab": {
          "base_uri": "https://localhost:8080/"
        },
        "outputId": "75db926c-3106-4b29-bfcc-6fd15d76bc5b"
      },
      "outputs": [
        {
          "output_type": "stream",
          "name": "stdout",
          "text": [
            "[[0 1 2]\n",
            " [3 4 5]\n",
            " [6 7 8]]\n"
          ]
        }
      ],
      "source": [
        "print(np.arange(0,9).reshape(3,3))"
      ]
    },
    {
      "cell_type": "markdown",
      "metadata": {
        "id": "Ik1EFgTjb_Pc"
      },
      "source": [
        "#### 10. Find indices of non-zero elements from \\[1,2,0,0,4,0\\] (★☆☆) \n",
        "(**hint**: np.nonzero)"
      ]
    },
    {
      "cell_type": "code",
      "execution_count": 14,
      "metadata": {
        "id": "jjYARa6nb_Pd",
        "colab": {
          "base_uri": "https://localhost:8080/"
        },
        "outputId": "b88280bf-7956-4891-d89f-58816c2f389d"
      },
      "outputs": [
        {
          "output_type": "stream",
          "name": "stdout",
          "text": [
            "[1 2 0 0 4 0]\n",
            "(array([0, 1, 4]),)\n"
          ]
        }
      ],
      "source": [
        "ar=np.array([1,2,0,0,4,0])\n",
        "print(ar)\n",
        "print(ar.nonzero())"
      ]
    },
    {
      "cell_type": "markdown",
      "metadata": {
        "id": "tvts8MElb_Pd"
      },
      "source": [
        "#### 11. Create a 3x3 identity matrix (★☆☆) \n",
        "(**hint**: np.eye)"
      ]
    },
    {
      "cell_type": "code",
      "execution_count": 15,
      "metadata": {
        "id": "CPcIqVKub_Pd",
        "colab": {
          "base_uri": "https://localhost:8080/"
        },
        "outputId": "72592f6c-0d73-4ffb-8e8d-7077eed01fd4"
      },
      "outputs": [
        {
          "output_type": "stream",
          "name": "stdout",
          "text": [
            "[[1. 0. 0.]\n",
            " [0. 1. 0.]\n",
            " [0. 0. 1.]]\n"
          ]
        }
      ],
      "source": [
        "print(np.eye(3,3))"
      ]
    },
    {
      "cell_type": "markdown",
      "metadata": {
        "id": "Cb7zf8tob_Pd"
      },
      "source": [
        "#### 12. Create a 3x3x3 array with random values (★☆☆) \n",
        "(**hint**: np.random.random)"
      ]
    },
    {
      "cell_type": "code",
      "execution_count": 17,
      "metadata": {
        "collapsed": true,
        "id": "HAOaqPDMb_Pd",
        "colab": {
          "base_uri": "https://localhost:8080/"
        },
        "outputId": "6c60fc5d-9503-45dc-9be1-06186b58c06f"
      },
      "outputs": [
        {
          "output_type": "stream",
          "name": "stdout",
          "text": [
            "[[[0.9325881  0.58872157 0.28625114]\n",
            "  [0.72195967 0.27566098 0.4748925 ]\n",
            "  [0.50180761 0.83783991 0.00227889]]\n",
            "\n",
            " [[0.47680018 0.63097537 0.86724807]\n",
            "  [0.53235649 0.45886356 0.40139901]\n",
            "  [0.86869687 0.01720537 0.74587245]]\n",
            "\n",
            " [[0.10306346 0.00145729 0.36744122]\n",
            "  [0.07972195 0.33200188 0.75156261]\n",
            "  [0.06637015 0.22655209 0.86917871]]]\n"
          ]
        }
      ],
      "source": [
        "print(np.random.random((3,3,3)))"
      ]
    },
    {
      "cell_type": "markdown",
      "metadata": {
        "id": "FKcB7h6Hb_Pd"
      },
      "source": [
        "#### 13. Create a 10x10 array with random values and find the minimum and maximum values (★☆☆) \n",
        "(**hint**: min, max)"
      ]
    },
    {
      "cell_type": "code",
      "execution_count": 18,
      "metadata": {
        "id": "YIQg-9pEb_Pd",
        "colab": {
          "base_uri": "https://localhost:8080/"
        },
        "outputId": "9a710c5e-96df-4d8e-95ea-8b7cd0f32b5b"
      },
      "outputs": [
        {
          "output_type": "stream",
          "name": "stdout",
          "text": [
            "Minimum and Maximum values are  0.004336693055111862 0.9970042000671515\n"
          ]
        }
      ],
      "source": [
        "x=np.random.random((10,10))\n",
        "print(\"Minimum and Maximum values are \",x.min(),x.max())"
      ]
    },
    {
      "cell_type": "markdown",
      "metadata": {
        "id": "cm0OSNQHb_Pd"
      },
      "source": [
        "#### 14. Create a random vector of size 30 and find the mean value (★☆☆) \n",
        "(**hint**: mean)"
      ]
    },
    {
      "cell_type": "code",
      "execution_count": 20,
      "metadata": {
        "id": "eHkZenZMb_Pe",
        "colab": {
          "base_uri": "https://localhost:8080/"
        },
        "outputId": "e1da4fce-d51a-4a97-debe-67af60d56b99"
      },
      "outputs": [
        {
          "output_type": "stream",
          "name": "stdout",
          "text": [
            "0.48087127645695615\n",
            "0.48087127645695615\n"
          ]
        }
      ],
      "source": [
        "x=np.random.random(30)\n",
        "print(x.mean())\n",
        "print(np.mean(x))"
      ]
    },
    {
      "cell_type": "markdown",
      "metadata": {
        "id": "cv1hOmPlb_Pe"
      },
      "source": [
        "#### 15. Create a 2d array with 1 on the border and 0 inside (★☆☆) \n",
        "(**hint**: array\\[1:-1, 1:-1\\])"
      ]
    },
    {
      "cell_type": "code",
      "execution_count": 25,
      "metadata": {
        "id": "HNjf175Ob_Pe",
        "colab": {
          "base_uri": "https://localhost:8080/"
        },
        "outputId": "d013b57c-3802-4a01-e8d2-47b5d8abdeb5"
      },
      "outputs": [
        {
          "output_type": "stream",
          "name": "stdout",
          "text": [
            "[[1. 1. 1. 1.]\n",
            " [1. 0. 0. 1.]\n",
            " [1. 0. 0. 1.]\n",
            " [1. 1. 1. 1.]]\n"
          ]
        }
      ],
      "source": [
        "x=np.ones((4,4))\n",
        "x[1:-1,1:-1]=0\n",
        "print(x)"
      ]
    },
    {
      "cell_type": "markdown",
      "metadata": {
        "id": "a5yThZPjb_Pe"
      },
      "source": [
        "#### 16. How to add a border (filled with 0's) around an existing array? (★☆☆) \n",
        "(**hint**: np.pad)"
      ]
    },
    {
      "cell_type": "code",
      "execution_count": 31,
      "metadata": {
        "id": "skNbqSHQb_Pe",
        "colab": {
          "base_uri": "https://localhost:8080/"
        },
        "outputId": "7ce1eb27-5672-4e3c-8cb9-797e9cf06871"
      },
      "outputs": [
        {
          "output_type": "stream",
          "name": "stdout",
          "text": [
            "[[0. 0. 0. 0. 0. 0.]\n",
            " [0. 1. 1. 1. 1. 0.]\n",
            " [0. 1. 1. 1. 1. 0.]\n",
            " [0. 1. 1. 1. 1. 0.]\n",
            " [0. 1. 1. 1. 1. 0.]\n",
            " [0. 0. 0. 0. 0. 0.]]\n"
          ]
        }
      ],
      "source": [
        "x=np.ones((4,4))\n",
        "print(np.pad(x, pad_width=1, mode='constant',constant_values=0))"
      ]
    },
    {
      "cell_type": "markdown",
      "metadata": {
        "id": "-2b1Rk8vb_Pe"
      },
      "source": [
        "#### 17. What is the result of the following expression? (★☆☆) \n",
        "(**hint**: NaN = not a number, inf = infinity)"
      ]
    },
    {
      "cell_type": "markdown",
      "metadata": {
        "id": "tBP7zfcjb_Pe"
      },
      "source": [
        "```python\n",
        "0 * np.nan\n",
        "np.nan == np.nan\n",
        "np.inf > np.nan\n",
        "np.nan - np.nan\n",
        "0.3 == 3 * 0.1\n",
        "```"
      ]
    },
    {
      "cell_type": "code",
      "execution_count": 148,
      "metadata": {
        "id": "8tFM-y53b_Pe",
        "colab": {
          "base_uri": "https://localhost:8080/"
        },
        "outputId": "e4bd4ccc-718c-4659-939d-3d74f771d9cb"
      },
      "outputs": [
        {
          "output_type": "stream",
          "name": "stdout",
          "text": [
            "nan\n",
            "False\n",
            "False\n",
            "nan\n",
            "False\n",
            "0.30000000000000004\n"
          ]
        }
      ],
      "source": [
        "print(0 * np.nan)\n",
        "print(np.nan == np.nan)\n",
        "print(np.inf > np.nan)\n",
        "print(np.nan - np.nan)\n",
        "print(0.3 == 3*0.1)\n",
        "print(3*0.1)"
      ]
    },
    {
      "cell_type": "markdown",
      "metadata": {
        "id": "hi2Y0_--b_Pf"
      },
      "source": [
        "#### 18. Create a 5x5 matrix with values 1,2,3,4 just below the diagonal (★☆☆) \n",
        "(**hint**: np.diag)"
      ]
    },
    {
      "cell_type": "code",
      "execution_count": 47,
      "metadata": {
        "id": "kX_IPKXqb_Pf",
        "colab": {
          "base_uri": "https://localhost:8080/"
        },
        "outputId": "bab1b58f-752b-4051-d398-20fe8b78532c"
      },
      "outputs": [
        {
          "output_type": "stream",
          "name": "stdout",
          "text": [
            "[[0 0 0 0 0]\n",
            " [1 0 0 0 0]\n",
            " [0 2 0 0 0]\n",
            " [0 0 3 0 0]\n",
            " [0 0 0 4 0]]\n"
          ]
        }
      ],
      "source": [
        "v= np.diag(1+np.arange(4),-1)\n",
        "print(v)"
      ]
    },
    {
      "cell_type": "markdown",
      "metadata": {
        "id": "JyquAMSXb_Pf"
      },
      "source": [
        "#### 19. Create a 8x8 matrix and fill it with a checkerboard pattern (★☆☆) \n",
        "(**hint**: array\\[::2\\])"
      ]
    },
    {
      "cell_type": "code",
      "execution_count": 52,
      "metadata": {
        "id": "FXFRzKw7b_Pf",
        "colab": {
          "base_uri": "https://localhost:8080/"
        },
        "outputId": "cde8c766-bd91-4d8c-b6c3-611e47ad6d86"
      },
      "outputs": [
        {
          "output_type": "stream",
          "name": "stdout",
          "text": [
            "[[0. 1. 0. 1. 0. 1. 0. 1.]\n",
            " [1. 0. 1. 0. 1. 0. 1. 0.]\n",
            " [0. 1. 0. 1. 0. 1. 0. 1.]\n",
            " [1. 0. 1. 0. 1. 0. 1. 0.]\n",
            " [0. 1. 0. 1. 0. 1. 0. 1.]\n",
            " [1. 0. 1. 0. 1. 0. 1. 0.]\n",
            " [0. 1. 0. 1. 0. 1. 0. 1.]\n",
            " [1. 0. 1. 0. 1. 0. 1. 0.]]\n"
          ]
        }
      ],
      "source": [
        "x=np.zeros((8,8))\n",
        "x[1::2,::2]=1\n",
        "x[::2,1::2]=1\n",
        "print(x)"
      ]
    },
    {
      "cell_type": "markdown",
      "metadata": {
        "id": "M1m086Oxb_Pf"
      },
      "source": [
        "#### 20. Consider a (6,7,8) shape array, what is the index (x,y,z) of the 100th element? \n",
        "(**hint**: np.unravel_index)"
      ]
    },
    {
      "cell_type": "code",
      "execution_count": 53,
      "metadata": {
        "id": "cNzXuWRMb_Pg",
        "colab": {
          "base_uri": "https://localhost:8080/"
        },
        "outputId": "f9d21fe3-895f-463c-c7ae-10e65adf4c3f"
      },
      "outputs": [
        {
          "output_type": "stream",
          "name": "stdout",
          "text": [
            "(1, 5, 4)\n"
          ]
        }
      ],
      "source": [
        "print(np.unravel_index(100,(6,7,8)))"
      ]
    },
    {
      "cell_type": "markdown",
      "metadata": {
        "id": "xbNSetq2b_Pg"
      },
      "source": [
        "#### 21. Create a checkerboard 8x8 matrix using the tile function (★☆☆) \n",
        "(**hint**: np.tile)"
      ]
    },
    {
      "cell_type": "code",
      "execution_count": 67,
      "metadata": {
        "id": "yBW_UZuBb_Pg",
        "colab": {
          "base_uri": "https://localhost:8080/"
        },
        "outputId": "223aa4e7-ca82-420c-b2dc-eb67e22cb6b0"
      },
      "outputs": [
        {
          "output_type": "stream",
          "name": "stdout",
          "text": [
            "[[1 2 1 2 1 2 1 2]\n",
            " [3 4 3 4 3 4 3 4]\n",
            " [1 2 1 2 1 2 1 2]\n",
            " [3 4 3 4 3 4 3 4]\n",
            " [1 2 1 2 1 2 1 2]\n",
            " [3 4 3 4 3 4 3 4]\n",
            " [1 2 1 2 1 2 1 2]\n",
            " [3 4 3 4 3 4 3 4]]\n"
          ]
        }
      ],
      "source": [
        "x=np.array([[1,2],[3,4]])\n",
        "x=np.tile(x,(4,4))\n",
        "print(x)"
      ]
    },
    {
      "cell_type": "markdown",
      "metadata": {
        "id": "Cvr_cBb3b_Pg"
      },
      "source": [
        "#### 22. Normalize a 5x5 random matrix (★☆☆) \n",
        "(**hint**: (x - min) / (max - min))"
      ]
    },
    {
      "cell_type": "code",
      "execution_count": 75,
      "metadata": {
        "id": "6STKw7VKb_Ph",
        "colab": {
          "base_uri": "https://localhost:8080/"
        },
        "outputId": "3b5aeaa1-cf4e-41ca-faff-aa2b46ce782d"
      },
      "outputs": [
        {
          "output_type": "stream",
          "name": "stdout",
          "text": [
            "[[0.         0.0270884  0.64568333 0.67237615 0.31562586]\n",
            " [0.27796571 0.30472626 0.87143959 0.30293813 0.14434372]\n",
            " [0.28162155 0.44223719 0.78550848 0.93952314 0.70393992]\n",
            " [0.78727142 0.98832337 0.70293282 1.         0.21715127]\n",
            " [0.48691658 0.38916648 0.18318742 0.47545952 0.68823252]]\n"
          ]
        }
      ],
      "source": [
        "x=np.random.rand(5,5)\n",
        "xmax, xmin = x.max(), x.min()\n",
        "x = (x - xmin)/(xmax - xmin)\n",
        "print(x)"
      ]
    },
    {
      "cell_type": "markdown",
      "metadata": {
        "id": "QUs84d04b_Ph"
      },
      "source": [
        "#### 23. Create a custom dtype that describes a color as four unsigned bytes (RGBA) (★☆☆) \n",
        "(**hint**: np.dtype)"
      ]
    },
    {
      "cell_type": "code",
      "execution_count": 76,
      "metadata": {
        "collapsed": true,
        "id": "h0dlB9gvb_Ph",
        "colab": {
          "base_uri": "https://localhost:8080/"
        },
        "outputId": "57eaa918-adad-4bb4-b32a-66e825230ccc"
      },
      "outputs": [
        {
          "output_type": "stream",
          "name": "stderr",
          "text": [
            "/usr/local/lib/python3.7/dist-packages/ipykernel_launcher.py:4: FutureWarning: Passing (type, 1) or '1type' as a synonym of type is deprecated; in a future version of numpy, it will be understood as (type, (1,)) / '(1,)type'.\n",
            "  after removing the cwd from sys.path.\n"
          ]
        }
      ],
      "source": [
        "color = np.dtype([(\"r\", np.ubyte, 1),\n",
        "                  (\"g\", np.ubyte, 1),\n",
        "                  (\"b\", np.ubyte, 1),\n",
        "                  (\"a\", np.ubyte, 1)])"
      ]
    },
    {
      "cell_type": "markdown",
      "metadata": {
        "id": "0aGch8WAb_Ph"
      },
      "source": [
        "#### 24. Multiply a 5x3 matrix by a 3x2 matrix (real matrix product) (★☆☆) \n",
        "(**hint**: np.dot | @)"
      ]
    },
    {
      "cell_type": "code",
      "execution_count": 80,
      "metadata": {
        "id": "lRj1VYv7b_Ph",
        "colab": {
          "base_uri": "https://localhost:8080/"
        },
        "outputId": "00a529f7-7c77-461d-db12-1fdbfbfc59f6"
      },
      "outputs": [
        {
          "output_type": "stream",
          "name": "stdout",
          "text": [
            "[[1.85416142 1.85416142]\n",
            " [1.10353545 1.10353545]\n",
            " [1.47698093 1.47698093]\n",
            " [1.83109817 1.83109817]\n",
            " [1.89497762 1.89497762]]\n"
          ]
        }
      ],
      "source": [
        "x = np.dot(np.random.random((5,3)), np.ones((3,2)))\n",
        "print(x)\n"
      ]
    },
    {
      "cell_type": "markdown",
      "metadata": {
        "id": "3TV4zoxmb_Ph"
      },
      "source": [
        "#### 25. Given a 1D array, negate all elements which are between 3 and 8, in place. (★☆☆) \n",
        "(**hint**: >, <=)"
      ]
    },
    {
      "cell_type": "code",
      "execution_count": 82,
      "metadata": {
        "id": "3PikHDEmb_Ph",
        "colab": {
          "base_uri": "https://localhost:8080/"
        },
        "outputId": "04073b0c-c8e3-4bf9-c405-143f64ee3064"
      },
      "outputs": [
        {
          "output_type": "stream",
          "name": "stdout",
          "text": [
            "[ 1  2  3 -4 -5 -6 -7 -8  9 10]\n"
          ]
        }
      ],
      "source": [
        "x = np.arange(1,11)\n",
        "x[(3 < x) & (x <= 8)] *= -1\n",
        "print(x)"
      ]
    },
    {
      "cell_type": "markdown",
      "metadata": {
        "id": "xXQ1c-7tb_Ph"
      },
      "source": [
        "#### 26. What is the output of the following script? (★☆☆) \n",
        "(**hint**: np.sum)"
      ]
    },
    {
      "cell_type": "markdown",
      "metadata": {
        "id": "LA7PsE44b_Ph"
      },
      "source": [
        "```python\n",
        "# Author: Jake VanderPlas\n",
        "\n",
        "print(sum(range(5),-1))\n",
        "from numpy import *\n",
        "print(sum(range(5),-1))\n",
        "```"
      ]
    },
    {
      "cell_type": "code",
      "execution_count": 83,
      "metadata": {
        "id": "EfFy8iOUb_Pi",
        "colab": {
          "base_uri": "https://localhost:8080/"
        },
        "outputId": "f201e728-7b0f-4a1a-ff65-a44ba3da6f68"
      },
      "outputs": [
        {
          "output_type": "stream",
          "name": "stdout",
          "text": [
            "9\n",
            "10\n"
          ]
        }
      ],
      "source": [
        "print(sum(range(5),-1))\n",
        "from numpy import *\n",
        "print(sum(range(5),-1))"
      ]
    },
    {
      "cell_type": "markdown",
      "metadata": {
        "id": "Aa__fqSnb_Pi"
      },
      "source": [
        "#### 27. Consider an integer vector Z, which of these expressions are legal? (★☆☆)"
      ]
    },
    {
      "cell_type": "markdown",
      "metadata": {
        "id": "3LdDv5Ayb_Pi"
      },
      "source": [
        "```python\n",
        "Z**Z\n",
        "2 << Z >> 2\n",
        "Z <- Z\n",
        "1j*Z\n",
        "Z/1/1\n",
        "Z<Z>Z\n",
        "```"
      ]
    },
    {
      "cell_type": "code",
      "execution_count": 96,
      "metadata": {
        "id": "XXEUxc2_b_Pi",
        "colab": {
          "base_uri": "https://localhost:8080/"
        },
        "outputId": "9d89ecb4-742c-4255-ed71-d891bd623edc"
      },
      "outputs": [
        {
          "output_type": "stream",
          "name": "stdout",
          "text": [
            "original integer vector : [1 2 3]\n",
            "z**z : [ 1  4 27]\n",
            "2<<z>>2 : [1 2 4]\n",
            "z<-z : [False False False]\n",
            "1j*z : [0.+1.j 0.+2.j 0.+3.j]\n",
            "z/1/1 : [1. 2. 3.]\n"
          ]
        }
      ],
      "source": [
        "z=np.array([1,2,3])\n",
        "print(\"original integer vector :\",z)\n",
        "print(\"z**z :\",z**z)\n",
        "print(\"2<<z>>2 :\",2<<z>>2)\n",
        "print(\"z<-z :\",z<-z)\n",
        "print(\"1j*z :\",1j*z)\n",
        "print(\"z/1/1 :\",z/1/1)\n",
        "#print(\"z<z>z :\",z<z>z)--->not legal"
      ]
    },
    {
      "cell_type": "markdown",
      "metadata": {
        "id": "sjEdPnXKb_Pi"
      },
      "source": [
        "#### 28. What are the result of the following expressions?"
      ]
    },
    {
      "cell_type": "markdown",
      "metadata": {
        "id": "jXMNnjW4b_Pi"
      },
      "source": [
        "```python\n",
        "np.array(0) / np.array(0)\n",
        "np.array(0) // np.array(0)\n",
        "np.array([np.nan]).astype(int).astype(float)\n",
        "```"
      ]
    },
    {
      "cell_type": "code",
      "execution_count": 98,
      "metadata": {
        "id": "A2UnhgHwb_Pi",
        "colab": {
          "base_uri": "https://localhost:8080/"
        },
        "outputId": "66361b0a-4595-44b7-9af1-5474f7039f46"
      },
      "outputs": [
        {
          "output_type": "stream",
          "name": "stdout",
          "text": [
            "nan\n",
            "0\n",
            "[-9.22337204e+18]\n"
          ]
        },
        {
          "output_type": "stream",
          "name": "stderr",
          "text": [
            "/usr/local/lib/python3.7/dist-packages/ipykernel_launcher.py:1: RuntimeWarning: invalid value encountered in true_divide\n",
            "  \"\"\"Entry point for launching an IPython kernel.\n",
            "/usr/local/lib/python3.7/dist-packages/ipykernel_launcher.py:2: RuntimeWarning: divide by zero encountered in floor_divide\n",
            "  \n"
          ]
        }
      ],
      "source": [
        "print(np.array(0) / np.array(0))\n",
        "print(np.array(0) // np.array(0))\n",
        "print(np.array([np.nan]).astype(int).astype(float))"
      ]
    },
    {
      "cell_type": "markdown",
      "metadata": {
        "id": "m4RKZtX7b_Pi"
      },
      "source": [
        "#### 29. How to round away from zero a float array ? (★☆☆) \n",
        "(**hint**: np.uniform, np.copysign, np.ceil, np.abs)"
      ]
    },
    {
      "cell_type": "code",
      "execution_count": 109,
      "metadata": {
        "id": "WOoKjzgab_Pi",
        "colab": {
          "base_uri": "https://localhost:8080/"
        },
        "outputId": "1003b429-a160-41cf-d53d-dfcd962201e6"
      },
      "outputs": [
        {
          "output_type": "stream",
          "name": "stdout",
          "text": [
            "[ 1.14937852 -4.43599071 -0.09134784  3.95605546  2.89076267  4.82312929\n",
            " -0.79793838 -4.0932486  -1.77499842 -0.69647839]\n",
            "[1.14937852 4.43599071 0.09134784 3.95605546 2.89076267 4.82312929\n",
            " 0.79793838 4.0932486  1.77499842 0.69647839]\n",
            "[2. 5. 1. 4. 3. 5. 1. 5. 2. 1.]\n",
            "[ 2. -5. -1.  4.  3.  5. -1. -5. -2. -1.]\n"
          ]
        }
      ],
      "source": [
        "x = np.random.uniform(-5,5,10)\n",
        "print(x)\n",
        "print(np.abs(x))\n",
        "print(np.ceil(np.abs(x)))\n",
        "print (np.copysign(np.ceil(np.abs(x)), x))"
      ]
    },
    {
      "cell_type": "markdown",
      "metadata": {
        "id": "SbAYoYTbb_Pi"
      },
      "source": [
        "#### 30. How to find common values between two arrays? (★☆☆) \n",
        "(**hint**: np.intersect1d)"
      ]
    },
    {
      "cell_type": "code",
      "execution_count": 110,
      "metadata": {
        "id": "6K1ZabGSb_Pj",
        "colab": {
          "base_uri": "https://localhost:8080/"
        },
        "outputId": "bd807ed4-833b-466c-a549-8c515a8a560b"
      },
      "outputs": [
        {
          "output_type": "stream",
          "name": "stdout",
          "text": [
            "[2 4]\n"
          ]
        }
      ],
      "source": [
        "x=np.array([1,2,3,4])\n",
        "y=np.array([2,4,6])\n",
        "print(np.intersect1d(x,y))"
      ]
    },
    {
      "cell_type": "markdown",
      "metadata": {
        "id": "iNUtPuNpb_Pj"
      },
      "source": [
        "#### 31. How to ignore all numpy warnings (not recommended)? (★☆☆) \n",
        "(**hint**: np.seterr, np.errstate)"
      ]
    },
    {
      "cell_type": "code",
      "execution_count": 126,
      "metadata": {
        "id": "qPsunnbgb_Pj",
        "colab": {
          "base_uri": "https://localhost:8080/"
        },
        "outputId": "fd3b0f0e-a7aa-4c3d-c513-dad70d3f87a2"
      },
      "outputs": [
        {
          "output_type": "stream",
          "name": "stdout",
          "text": [
            "Dead\n",
            "back\n"
          ]
        },
        {
          "output_type": "stream",
          "name": "stderr",
          "text": [
            "/usr/local/lib/python3.7/dist-packages/ipykernel_launcher.py:5: RuntimeWarning: divide by zero encountered in true_divide\n",
            "  \"\"\"\n"
          ]
        }
      ],
      "source": [
        "np.seterr(all=\"ignore\")\n",
        "np.ones(1)/0\n",
        "print(\"Dead\")\n",
        "#np.seterr(all=\"warn\")\n",
        "#np.ones(1)/0\n",
        "#print(\"back\")"
      ]
    },
    {
      "cell_type": "markdown",
      "metadata": {
        "id": "svU1rFDyb_Pj"
      },
      "source": [
        "#### 32. Is the following expressions true? (★☆☆) \n",
        "(**hint**: imaginary number)"
      ]
    },
    {
      "cell_type": "markdown",
      "metadata": {
        "id": "lHIuB2Thb_Pj"
      },
      "source": [
        "```python\n",
        "np.sqrt(-1) == np.emath.sqrt(-1)\n",
        "```"
      ]
    },
    {
      "cell_type": "code",
      "execution_count": 129,
      "metadata": {
        "id": "j-mBqUlQb_Pj",
        "colab": {
          "base_uri": "https://localhost:8080/"
        },
        "outputId": "498105be-82e9-4f2a-d304-baf10946f0b6"
      },
      "outputs": [
        {
          "output_type": "stream",
          "name": "stdout",
          "text": [
            "nan\n",
            "1j\n",
            "False\n"
          ]
        },
        {
          "output_type": "stream",
          "name": "stderr",
          "text": [
            "/usr/local/lib/python3.7/dist-packages/ipykernel_launcher.py:1: RuntimeWarning: invalid value encountered in sqrt\n",
            "  \"\"\"Entry point for launching an IPython kernel.\n",
            "/usr/local/lib/python3.7/dist-packages/ipykernel_launcher.py:3: RuntimeWarning: invalid value encountered in sqrt\n",
            "  This is separate from the ipykernel package so we can avoid doing imports until\n"
          ]
        }
      ],
      "source": [
        "print(np.sqrt(-1))\n",
        "print(np.emath.sqrt(-1))\n",
        "print(np.sqrt(-1) == np.emath.sqrt(-1))"
      ]
    },
    {
      "cell_type": "markdown",
      "metadata": {
        "id": "JtoSBfZOb_Pj"
      },
      "source": [
        "#### 33. How to get the dates of yesterday, today and tomorrow? (★☆☆) \n",
        "(**hint**: np.datetime64, np.timedelta64)"
      ]
    },
    {
      "cell_type": "code",
      "execution_count": 131,
      "metadata": {
        "collapsed": true,
        "id": "YR2g_c-0b_Pj",
        "colab": {
          "base_uri": "https://localhost:8080/"
        },
        "outputId": "fac29f20-d7bc-4993-8a00-3d555b45dd80"
      },
      "outputs": [
        {
          "output_type": "stream",
          "name": "stdout",
          "text": [
            "Yesterday : 2022-08-18\n",
            "Today : 2022-08-19\n",
            "Tomorrow : 2022-08-20\n"
          ]
        }
      ],
      "source": [
        "yesterday = np.datetime64('today', 'D') - np.timedelta64(1, 'D')\n",
        "today     = np.datetime64('today', 'D')\n",
        "tomorrow  = np.datetime64('today', 'D') + np.timedelta64(1, 'D')\n",
        "print(\"Yesterday :\",yesterday)\n",
        "print(\"Today :\",today)\n",
        "print(\"Tomorrow :\",tomorrow)"
      ]
    },
    {
      "cell_type": "markdown",
      "metadata": {
        "id": "eoHcYJGab_Pj"
      },
      "source": [
        "#### 34. How to get all the dates corresponding to the month of July 2016? (★★☆) \n",
        "(**hint**: np.arange(dtype=datetime64\\['D'\\]))"
      ]
    },
    {
      "cell_type": "code",
      "execution_count": 136,
      "metadata": {
        "id": "FFFqxsDTb_Pj",
        "colab": {
          "base_uri": "https://localhost:8080/"
        },
        "outputId": "e7d2e563-7d59-4761-a0e0-703ea7b38936"
      },
      "outputs": [
        {
          "output_type": "stream",
          "name": "stdout",
          "text": [
            "['2016-07-01' '2016-07-02' '2016-07-03' '2016-07-04' '2016-07-05'\n",
            " '2016-07-06' '2016-07-07' '2016-07-08' '2016-07-09' '2016-07-10'\n",
            " '2016-07-11' '2016-07-12' '2016-07-13' '2016-07-14' '2016-07-15'\n",
            " '2016-07-16' '2016-07-17' '2016-07-18' '2016-07-19' '2016-07-20'\n",
            " '2016-07-21' '2016-07-22' '2016-07-23' '2016-07-24' '2016-07-25'\n",
            " '2016-07-26' '2016-07-27' '2016-07-28' '2016-07-29' '2016-07-30'\n",
            " '2016-07-31']\n"
          ]
        }
      ],
      "source": [
        "x = np.arange('2016-07', '2016-08', dtype='datetime64[D]')\n",
        "print(x)"
      ]
    },
    {
      "cell_type": "markdown",
      "metadata": {
        "id": "6TmqHtQZb_Pk"
      },
      "source": [
        "#### 35. How to compute ((A+B)\\*(-A/2)) in place (without copy)? (★★☆) \n",
        "(**hint**: np.add(out=), np.negative(out=), np.multiply(out=), np.divide(out=))"
      ]
    },
    {
      "cell_type": "code",
      "execution_count": 139,
      "metadata": {
        "id": "vpThhulvb_Pk",
        "colab": {
          "base_uri": "https://localhost:8080/"
        },
        "outputId": "89640946-f961-4914-89f0-9c11523e4ea1"
      },
      "outputs": [
        {
          "output_type": "stream",
          "name": "stdout",
          "text": [
            "[-1.5 -1.5 -1.5]\n"
          ]
        }
      ],
      "source": [
        "A = np.ones(3)*1\n",
        "B = np.ones(3)*2\n",
        "C = np.ones(3)*3\n",
        "np.add(A,B,out=B)\n",
        "#print(A,B,C)\n",
        "np.divide(A,2,out=A)\n",
        "np.negative(A,out=A)\n",
        "print(np.multiply(A,B,out=A))"
      ]
    },
    {
      "cell_type": "markdown",
      "metadata": {
        "id": "CfDiyGSkb_Pk"
      },
      "source": [
        "#### 36. Extract the integer part of a random array using 5 different methods (★★☆) \n",
        "(**hint**: %, np.floor, np.ceil, astype, np.trunc)"
      ]
    },
    {
      "cell_type": "code",
      "execution_count": 142,
      "metadata": {
        "id": "kHXfVUg5b_Pk",
        "colab": {
          "base_uri": "https://localhost:8080/"
        },
        "outputId": "43deb284-107b-4e06-e82b-09dffcdce409"
      },
      "outputs": [
        {
          "output_type": "stream",
          "name": "stdout",
          "text": [
            "[6.48719136 5.70293142 4.87753271 2.5679941  4.42583594 7.06829257\n",
            " 6.21889235 4.50431922 2.4378607  6.65855913]\n",
            "[6. 5. 4. 2. 4. 7. 6. 4. 2. 6.]\n",
            "[6. 5. 4. 2. 4. 7. 6. 4. 2. 6.]\n",
            "[6. 5. 4. 2. 4. 7. 6. 4. 2. 6.]\n",
            "[6 5 4 2 4 7 6 4 2 6]\n",
            "[6. 5. 4. 2. 4. 7. 6. 4. 2. 6.]\n"
          ]
        }
      ],
      "source": [
        "Z = np.random.uniform(0,10,10)\n",
        "\n",
        "print(Z)\n",
        "print(Z - Z%1)\n",
        "print(np.floor(Z))\n",
        "print(np.ceil(Z)-1)\n",
        "print(Z.astype(int))\n",
        "print(np.trunc(Z))"
      ]
    },
    {
      "cell_type": "markdown",
      "metadata": {
        "id": "S27F_Tyfb_Pk"
      },
      "source": [
        "#### 37. Create a 5x5 matrix with row values ranging from 0 to 4 (★★☆) \n",
        "(**hint**: np.arange)"
      ]
    },
    {
      "cell_type": "code",
      "execution_count": 144,
      "metadata": {
        "id": "vVSpo1mKb_Pk",
        "colab": {
          "base_uri": "https://localhost:8080/"
        },
        "outputId": "a8a23fd4-fb78-4d70-95c9-50ec628ace02"
      },
      "outputs": [
        {
          "output_type": "stream",
          "name": "stdout",
          "text": [
            "[[0. 1. 2. 3. 4.]\n",
            " [0. 1. 2. 3. 4.]\n",
            " [0. 1. 2. 3. 4.]\n",
            " [0. 1. 2. 3. 4.]\n",
            " [0. 1. 2. 3. 4.]]\n"
          ]
        }
      ],
      "source": [
        "x=np.zeros((5,5))\n",
        "x+=np.arange(5)\n",
        "print(x)"
      ]
    },
    {
      "cell_type": "markdown",
      "metadata": {
        "id": "TOVn2kpEb_Pk"
      },
      "source": [
        "#### 38. Consider a generator function that generates 10 integers and use it to build an array (★☆☆) \n",
        "(**hint**: np.fromiter)"
      ]
    },
    {
      "cell_type": "code",
      "execution_count": 147,
      "metadata": {
        "id": "G72yxUpFb_Pk",
        "colab": {
          "base_uri": "https://localhost:8080/"
        },
        "outputId": "f1aa4633-059b-4bfc-b35d-4376fdbd24d8"
      },
      "outputs": [
        {
          "output_type": "stream",
          "name": "stdout",
          "text": [
            "[0 1 2 3 4 5 6 7 8 9]\n"
          ]
        }
      ],
      "source": [
        "def generate():\n",
        "    for x in range(10):\n",
        "        yield x\n",
        "Z = np.fromiter(generate(),dtype=int,count=-1)\n",
        "print(Z)"
      ]
    },
    {
      "cell_type": "markdown",
      "metadata": {
        "id": "qSPw17l_b_Pk"
      },
      "source": [
        "#### 39. Create a vector of size 10 with values ranging from 0 to 1, both excluded (★★☆) \n",
        "(**hint**: np.linspace)"
      ]
    },
    {
      "cell_type": "code",
      "execution_count": 149,
      "metadata": {
        "id": "iY-JpDLDb_Pk",
        "colab": {
          "base_uri": "https://localhost:8080/"
        },
        "outputId": "2bcf59da-1ad6-4bb3-d9aa-bef3ff9c70a5"
      },
      "outputs": [
        {
          "output_type": "stream",
          "name": "stdout",
          "text": [
            "[0.09090909 0.18181818 0.27272727 0.36363636 0.45454545 0.54545455\n",
            " 0.63636364 0.72727273 0.81818182 0.90909091]\n"
          ]
        }
      ],
      "source": [
        "Z = np.linspace(0,1,11,endpoint=False)[1:]\n",
        "print(Z)"
      ]
    },
    {
      "cell_type": "markdown",
      "metadata": {
        "id": "cgFJFpD2b_Pk"
      },
      "source": [
        "#### 40. Create a random vector of size 10 and sort it (★★☆) \n",
        "(**hint**: sort)"
      ]
    },
    {
      "cell_type": "code",
      "execution_count": 154,
      "metadata": {
        "id": "xgyWIzL-b_Pl",
        "colab": {
          "base_uri": "https://localhost:8080/"
        },
        "outputId": "0428794e-5df5-41fa-f743-95763817402c"
      },
      "outputs": [
        {
          "output_type": "stream",
          "name": "stdout",
          "text": [
            "[0.00335756 0.02310085 0.1510136  0.16745841 0.31486706 0.3561451\n",
            " 0.53221677 0.56836271 0.69886543 0.79090391]\n"
          ]
        }
      ],
      "source": [
        "x=np.random.random(10)\n",
        "print(np.sort(x))"
      ]
    },
    {
      "cell_type": "markdown",
      "metadata": {
        "id": "YJSK3skPb_Pl"
      },
      "source": [
        "#### 41. How to sum a small array faster than np.sum? (★★☆) \n",
        "(**hint**: np.add.reduce)"
      ]
    },
    {
      "cell_type": "code",
      "execution_count": 156,
      "metadata": {
        "id": "Bv_krcB9b_Pl",
        "colab": {
          "base_uri": "https://localhost:8080/"
        },
        "outputId": "fbe15459-c9d2-4069-9f6c-85104d079759"
      },
      "outputs": [
        {
          "output_type": "stream",
          "name": "stdout",
          "text": [
            "[0 1 2 3 4 5 6 7 8 9]\n"
          ]
        },
        {
          "output_type": "execute_result",
          "data": {
            "text/plain": [
              "45"
            ]
          },
          "metadata": {},
          "execution_count": 156
        }
      ],
      "source": [
        "Z = np.arange(10)\n",
        "print(Z)\n",
        "np.add.reduce(Z)"
      ]
    },
    {
      "cell_type": "markdown",
      "metadata": {
        "id": "He7QOOvyb_Pl"
      },
      "source": [
        "#### 42. Consider two random array A and B, check if they are equal (★★☆) \n",
        "(**hint**: np.allclose, np.array\\_equal)"
      ]
    },
    {
      "cell_type": "code",
      "execution_count": 172,
      "metadata": {
        "id": "0KZMc_Y1b_Pl",
        "colab": {
          "base_uri": "https://localhost:8080/"
        },
        "outputId": "3f11bfc1-d922-49da-aeb9-22d0e045edb3"
      },
      "outputs": [
        {
          "output_type": "stream",
          "name": "stdout",
          "text": [
            "[3 3 1 0 3 0 3 0 1 3]\n",
            "[4 1 4 2 4 0 3 1 3 2]\n",
            "----------------\n",
            "allclose : False\n",
            "array_equal: False\n"
          ]
        }
      ],
      "source": [
        "a=np.random.randint(0,5,10)\n",
        "b=np.random.randint(0,5,10)\n",
        "\n",
        "print(a)\n",
        "print(b)\n",
        "print(\"----------------\")\n",
        "print(\"allclose :\",np.allclose(a,b))\n",
        "print(\"array_equal:\",np.array_equal(a,b))\n"
      ]
    },
    {
      "cell_type": "markdown",
      "metadata": {
        "id": "fSa6P_Usb_Pl"
      },
      "source": [
        "#### 43. Make an array immutable (read-only) (★★☆) \n",
        "(**hint**: flags.writeable)"
      ]
    },
    {
      "cell_type": "code",
      "execution_count": 174,
      "metadata": {
        "id": "hKRNzJBYb_Pl"
      },
      "outputs": [],
      "source": [
        "x=np.ones(5)\n",
        "x.flags.writeable = False\n",
        "#x[2]=5"
      ]
    },
    {
      "cell_type": "markdown",
      "metadata": {
        "id": "F2zfVonqb_Pl"
      },
      "source": [
        "#### 44. Consider a random 10x2 matrix representing cartesian coordinates, convert them to polar coordinates (★★☆) \n",
        "(**hint**: np.sqrt, np.arctan2)"
      ]
    },
    {
      "cell_type": "code",
      "execution_count": null,
      "metadata": {
        "id": "GWGzOVQkb_Pl"
      },
      "outputs": [],
      "source": [
        ""
      ]
    },
    {
      "cell_type": "markdown",
      "metadata": {
        "id": "pFad2T18b_Pl"
      },
      "source": [
        "#### 45. Create random vector of size 10 and replace the maximum value by 0 (★★☆) \n",
        "(**hint**: argmax)"
      ]
    },
    {
      "cell_type": "code",
      "execution_count": 179,
      "metadata": {
        "id": "BA4WHD3Wb_Pm",
        "colab": {
          "base_uri": "https://localhost:8080/"
        },
        "outputId": "5f88103b-e10f-4f17-b33e-65a3a5d9030f"
      },
      "outputs": [
        {
          "output_type": "stream",
          "name": "stdout",
          "text": [
            "[0.77232754 0.1990692  0.9075146  0.07411696 0.01229982 0.61581801\n",
            " 0.94955845 0.31548899 0.6163808  0.78708888]\n",
            "[0.77232754 0.1990692  0.9075146  0.07411696 0.01229982 0.61581801\n",
            " 0.         0.31548899 0.6163808  0.78708888]\n"
          ]
        }
      ],
      "source": [
        "x=np.random.random(10)\n",
        "print(x)\n",
        "x[np.argmax(x)]=0\n",
        "print(x)"
      ]
    },
    {
      "cell_type": "markdown",
      "metadata": {
        "id": "vgmrftb7b_Pm"
      },
      "source": [
        "#### 46. Create a structured array with `x` and `y` coordinates covering the \\[0,1\\]x\\[0,1\\] area (★★☆) \n",
        "(**hint**: np.meshgrid)"
      ]
    },
    {
      "cell_type": "code",
      "execution_count": 188,
      "metadata": {
        "id": "Hkj_a_llb_Pm",
        "colab": {
          "base_uri": "https://localhost:8080/"
        },
        "outputId": "68b0297a-a586-43bc-eab9-184d1492963f"
      },
      "outputs": [
        {
          "output_type": "stream",
          "name": "stdout",
          "text": [
            "[[(0.  , 0.  ) (0.25, 0.  ) (0.5 , 0.  ) (0.75, 0.  ) (1.  , 0.  )]\n",
            " [(0.  , 0.25) (0.25, 0.25) (0.5 , 0.25) (0.75, 0.25) (1.  , 0.25)]\n",
            " [(0.  , 0.5 ) (0.25, 0.5 ) (0.5 , 0.5 ) (0.75, 0.5 ) (1.  , 0.5 )]\n",
            " [(0.  , 0.75) (0.25, 0.75) (0.5 , 0.75) (0.75, 0.75) (1.  , 0.75)]\n",
            " [(0.  , 1.  ) (0.25, 1.  ) (0.5 , 1.  ) (0.75, 1.  ) (1.  , 1.  )]]\n"
          ]
        }
      ],
      "source": [
        "a = np.ones((5,5), [('x',float),('y',float)])\n",
        "a['x'],a['y'] = np.meshgrid(np.linspace(0,1,5),\n",
        "                             np.linspace(0,1,5))\n",
        "print(a)"
      ]
    },
    {
      "cell_type": "markdown",
      "metadata": {
        "id": "NE41peNmb_Pm"
      },
      "source": [
        "####  47. Given two arrays, X and Y, construct the Cauchy matrix C (Cij =1/(xi - yj)) \n",
        "(**hint**: np.subtract.outer)"
      ]
    },
    {
      "cell_type": "code",
      "execution_count": 191,
      "metadata": {
        "id": "kQtS9xkgb_Pm",
        "colab": {
          "base_uri": "https://localhost:8080/"
        },
        "outputId": "e2a91d4b-448f-440a-994b-07a845939a1f"
      },
      "outputs": [
        {
          "output_type": "stream",
          "name": "stdout",
          "text": [
            "[[-2.         -0.66666667 -0.4        -0.28571429 -0.22222222 -0.18181818\n",
            "  -0.15384615 -0.13333333]\n",
            " [ 2.         -2.         -0.66666667 -0.4        -0.28571429 -0.22222222\n",
            "  -0.18181818 -0.15384615]\n",
            " [ 0.66666667  2.         -2.         -0.66666667 -0.4        -0.28571429\n",
            "  -0.22222222 -0.18181818]\n",
            " [ 0.4         0.66666667  2.         -2.         -0.66666667 -0.4\n",
            "  -0.28571429 -0.22222222]\n",
            " [ 0.28571429  0.4         0.66666667  2.         -2.         -0.66666667\n",
            "  -0.4        -0.28571429]\n",
            " [ 0.22222222  0.28571429  0.4         0.66666667  2.         -2.\n",
            "  -0.66666667 -0.4       ]\n",
            " [ 0.18181818  0.22222222  0.28571429  0.4         0.66666667  2.\n",
            "  -2.         -0.66666667]\n",
            " [ 0.15384615  0.18181818  0.22222222  0.28571429  0.4         0.66666667\n",
            "   2.         -2.        ]]\n"
          ]
        }
      ],
      "source": [
        "X = np.arange(8)\n",
        "Y = X + 0.5\n",
        "C = 1.0 / np.subtract.outer(X, Y)\n",
        "print(C)\n",
        "#print(np.linalg.det(C))"
      ]
    },
    {
      "cell_type": "markdown",
      "metadata": {
        "id": "D1B7lK8Ub_Pm"
      },
      "source": [
        "#### 48. Print the minimum and maximum representable value for each numpy scalar type (★★☆) \n",
        "(**hint**: np.iinfo, np.finfo, eps)"
      ]
    },
    {
      "cell_type": "code",
      "execution_count": 195,
      "metadata": {
        "id": "er472znvb_Pm",
        "colab": {
          "base_uri": "https://localhost:8080/"
        },
        "outputId": "8606c7a4-44f1-43cd-d227-6aa38ed65a53"
      },
      "outputs": [
        {
          "output_type": "stream",
          "name": "stdout",
          "text": [
            "<class 'numpy.int8'>\n",
            "Min: -128, Max : 127\n",
            "<class 'numpy.int32'>\n",
            "Min: -2147483648, Max : 2147483647\n",
            "<class 'numpy.int64'>\n",
            "Min: -9223372036854775808, Max : 9223372036854775807\n",
            "<class 'numpy.float32'>\n",
            "Min : -3.4028235e+38, Max : 3.4028235e+38, Eps : 1.1920929e-07\n",
            "<class 'numpy.float64'>\n",
            "Min : -1.7976931348623157e+308, Max : 1.7976931348623157e+308, Eps : 2.220446049250313e-16\n"
          ]
        }
      ],
      "source": [
        "for dtype in [np.int8, np.int32, np.int64]:\n",
        "  print(dtype)\n",
        "  print(\"Min:\",np.iinfo(dtype).min,end=\", \")\n",
        "  print(\"Max :\",np.iinfo(dtype).max)\n",
        "for dtype in [np.float32, np.float64]:\n",
        "  print(dtype)\n",
        "  print(\"Min :\",np.finfo(dtype).min,end=\", \")\n",
        "  print(\"Max :\",np.finfo(dtype).max,end=\", \")\n",
        "  print(\"Eps :\",np.finfo(dtype).eps)"
      ]
    },
    {
      "cell_type": "markdown",
      "metadata": {
        "id": "qP4Xd26vb_Pm"
      },
      "source": [
        "#### 49. How to print all the values of an array? (★★☆) \n",
        "(**hint**: np.set\\_printoptions)"
      ]
    },
    {
      "cell_type": "code",
      "execution_count": 199,
      "metadata": {
        "id": "nh99fE7Hb_Pm",
        "colab": {
          "base_uri": "https://localhost:8080/"
        },
        "outputId": "4471e9ad-9390-48fa-8c99-b46f6db05935"
      },
      "outputs": [
        {
          "output_type": "stream",
          "name": "stdout",
          "text": [
            "[[0.17083919 0.67499936 0.16314796 0.14863868 0.00774051]\n",
            " [0.81195351 0.636977   0.15492306 0.9600668  0.48949716]\n",
            " [0.88463523 0.34261077 0.94653498 0.01391422 0.624381  ]\n",
            " [0.32335086 0.16836815 0.37960952 0.62581271 0.72659009]\n",
            " [0.53883537 0.03494555 0.39101071 0.53640399 0.2335586 ]]\n"
          ]
        }
      ],
      "source": [
        "Z = np.random.random((5,5))\n",
        "print(Z)"
      ]
    },
    {
      "cell_type": "markdown",
      "metadata": {
        "id": "fNTArA-_b_Pm"
      },
      "source": [
        "#### 50. How to find the closest value (to a given scalar) in a vector? (★★☆) \n",
        "(**hint**: argmin)"
      ]
    },
    {
      "cell_type": "code",
      "execution_count": 200,
      "metadata": {
        "id": "WiRb5TiJb_Pm",
        "colab": {
          "base_uri": "https://localhost:8080/"
        },
        "outputId": "3cec00cc-0b2b-4006-e3c3-5fd82bb37e08"
      },
      "outputs": [
        {
          "output_type": "stream",
          "name": "stdout",
          "text": [
            "30\n"
          ]
        }
      ],
      "source": [
        "Z = np.arange(100)\n",
        "v = np.random.uniform(0,100)\n",
        "index = (np.abs(Z-v)).argmin()\n",
        "print(Z[index])"
      ]
    },
    {
      "cell_type": "markdown",
      "metadata": {
        "id": "fmQSY5tmb_Pn"
      },
      "source": [
        "#### 51. Create a structured array representing a position (x,y) and a color (r,g,b) (★★☆) \n",
        "(**hint**: dtype)"
      ]
    },
    {
      "cell_type": "code",
      "execution_count": 201,
      "metadata": {
        "id": "_FMK3ZAxb_Pn",
        "colab": {
          "base_uri": "https://localhost:8080/"
        },
        "outputId": "773ba720-4856-4562-95a5-4b0157b4adb6"
      },
      "outputs": [
        {
          "output_type": "stream",
          "name": "stdout",
          "text": [
            "[((0., 0.), (0., 0., 0.)) ((0., 0.), (0., 0., 0.))\n",
            " ((0., 0.), (0., 0., 0.)) ((0., 0.), (0., 0., 0.))\n",
            " ((0., 0.), (0., 0., 0.)) ((0., 0.), (0., 0., 0.))\n",
            " ((0., 0.), (0., 0., 0.)) ((0., 0.), (0., 0., 0.))\n",
            " ((0., 0.), (0., 0., 0.)) ((0., 0.), (0., 0., 0.))]\n"
          ]
        },
        {
          "output_type": "stream",
          "name": "stderr",
          "text": [
            "/usr/local/lib/python3.7/dist-packages/ipykernel_launcher.py:5: FutureWarning: Passing (type, 1) or '1type' as a synonym of type is deprecated; in a future version of numpy, it will be understood as (type, (1,)) / '(1,)type'.\n",
            "  \"\"\"\n"
          ]
        }
      ],
      "source": [
        "Z = np.zeros(10, [ ('position', [ ('x', float, 1),\n",
        "                                  ('y', float, 1)]),\n",
        "                   ('color',    [ ('r', float, 1),\n",
        "                                  ('g', float, 1),\n",
        "                                  ('b', float, 1)])])\n",
        "print(Z)"
      ]
    },
    {
      "cell_type": "markdown",
      "metadata": {
        "id": "YZXEd0nmb_Pn"
      },
      "source": [
        "#### 52. Consider a random vector with shape (100,2) representing coordinates, find point by point distances (★★☆) \n",
        "(**hint**: np.atleast\\_2d, T, np.sqrt)"
      ]
    },
    {
      "cell_type": "code",
      "execution_count": null,
      "metadata": {
        "id": "5dS2zbrVb_Pn"
      },
      "outputs": [],
      "source": [
        ""
      ]
    },
    {
      "cell_type": "markdown",
      "metadata": {
        "id": "dRRa08_db_Pn"
      },
      "source": [
        "#### 53. How to convert a float (32 bits) array into an integer (32 bits) in place? \n",
        "(**hint**: astype(copy=False))"
      ]
    },
    {
      "cell_type": "code",
      "execution_count": 203,
      "metadata": {
        "id": "U7_iVi5Yb_Pn",
        "colab": {
          "base_uri": "https://localhost:8080/"
        },
        "outputId": "f9ddf8f0-0ad4-43bd-d92c-ddb31be2ed45"
      },
      "outputs": [
        {
          "output_type": "stream",
          "name": "stdout",
          "text": [
            "[0. 1. 2. 3. 4. 5. 6. 7. 8. 9.]\n",
            "[0 1 2 3 4 5 6 7 8 9]\n"
          ]
        }
      ],
      "source": [
        "x = np.arange(10, dtype=np.float32)\n",
        "print(x)\n",
        "x = x.astype(np.int32, copy=False)\n",
        "print(x)"
      ]
    },
    {
      "cell_type": "markdown",
      "metadata": {
        "id": "GEtCVFfBb_Pn"
      },
      "source": [
        "#### 54. How to read the following file? (★★☆) \n",
        "(**hint**: np.genfromtxt)"
      ]
    },
    {
      "cell_type": "markdown",
      "metadata": {
        "id": "Yd2ZTEHhb_Pn"
      },
      "source": [
        "```\n",
        "1, 2, 3, 4, 5\n",
        "6,  ,  , 7, 8\n",
        " ,  , 9,10,11\n",
        "```"
      ]
    },
    {
      "cell_type": "code",
      "execution_count": null,
      "metadata": {
        "id": "alxKqNpWb_Pn"
      },
      "outputs": [],
      "source": [
        "Z = np.genfromtxt(\"filename.txt\", delimiter=\",\",dtype=int)"
      ]
    },
    {
      "cell_type": "markdown",
      "metadata": {
        "id": "7VRew4Sob_Pn"
      },
      "source": [
        "#### 55. What is the equivalent of enumerate for numpy arrays? (★★☆) \n",
        "(**hint**: np.ndenumerate, np.ndindex)"
      ]
    },
    {
      "cell_type": "code",
      "execution_count": 204,
      "metadata": {
        "id": "_tS18NM4b_Po",
        "colab": {
          "base_uri": "https://localhost:8080/"
        },
        "outputId": "9d4d523b-7bbd-4488-abd1-222209cd8910"
      },
      "outputs": [
        {
          "output_type": "stream",
          "name": "stdout",
          "text": [
            "(0, 0) 0\n",
            "(0, 1) 1\n",
            "(0, 2) 2\n",
            "(1, 0) 3\n",
            "(1, 1) 4\n",
            "(1, 2) 5\n",
            "(2, 0) 6\n",
            "(2, 1) 7\n",
            "(2, 2) 8\n"
          ]
        }
      ],
      "source": [
        "x = np.arange(9).reshape(3,3)\n",
        "for index, value in np.ndenumerate(x):\n",
        "  print(index, value)"
      ]
    },
    {
      "cell_type": "markdown",
      "metadata": {
        "id": "PIyTCkMHb_Po"
      },
      "source": [
        "#### 56. Generate a generic 2D Gaussian-like array (★★☆) \n",
        "(**hint**: np.meshgrid, np.exp)"
      ]
    },
    {
      "cell_type": "code",
      "execution_count": 205,
      "metadata": {
        "id": "16NbA7ojb_Po"
      },
      "outputs": [],
      "source": [
        ""
      ]
    },
    {
      "cell_type": "markdown",
      "metadata": {
        "id": "a7_e_4i_b_Po"
      },
      "source": [
        "#### 57. How to randomly place p elements in a 2D array? (★★☆) \n",
        "(**hint**: np.put, np.random.choice)"
      ]
    },
    {
      "cell_type": "code",
      "execution_count": 210,
      "metadata": {
        "id": "-yVliztsb_Po",
        "colab": {
          "base_uri": "https://localhost:8080/"
        },
        "outputId": "66a3550d-5045-46bf-9199-1ad35855aea4"
      },
      "outputs": [
        {
          "output_type": "stream",
          "name": "stdout",
          "text": [
            "[[0. 5. 0. 0. 5.]\n",
            " [0. 0. 0. 0. 0.]\n",
            " [0. 0. 0. 0. 0.]\n",
            " [0. 0. 0. 5. 0.]\n",
            " [0. 0. 0. 0. 0.]]\n"
          ]
        }
      ],
      "source": [
        "n = 5\n",
        "p = 3\n",
        "Z = np.zeros((n,n))\n",
        "np.put(Z, np.random.choice(range(n*n), p, replace=False),5)\n",
        "print(Z)"
      ]
    },
    {
      "cell_type": "markdown",
      "metadata": {
        "id": "PIgVQUdtb_Po"
      },
      "source": [
        "#### 58. Subtract the mean of each row of a matrix (★★☆) \n",
        "(**hint**: mean(axis=,keepdims=))"
      ]
    },
    {
      "cell_type": "code",
      "execution_count": 212,
      "metadata": {
        "id": "tmClD1CRb_Po",
        "colab": {
          "base_uri": "https://localhost:8080/"
        },
        "outputId": "fe7f4fa6-6d38-4494-d55e-fb1a3568cf3f"
      },
      "outputs": [
        {
          "output_type": "stream",
          "name": "stdout",
          "text": [
            "[[0.85938618 0.87164545 0.39108118 0.33330437 0.01383608 0.05715687\n",
            "  0.82213098 0.81778795 0.78268257 0.10338892]\n",
            " [0.65319406 0.60366299 0.57179846 0.90287715 0.41019037 0.15835651\n",
            "  0.86723186 0.07376524 0.97104239 0.25388325]\n",
            " [0.13768252 0.53329586 0.84212996 0.27216228 0.19195464 0.54169585\n",
            "  0.55795532 0.31227421 0.760425   0.15468984]\n",
            " [0.40042779 0.17986093 0.6766139  0.27256233 0.21985394 0.58021289\n",
            "  0.46519953 0.97473546 0.76510901 0.78469667]\n",
            " [0.22138775 0.06004767 0.74198713 0.21102376 0.69320044 0.19772339\n",
            "  0.58565913 0.85991435 0.76461486 0.6004122 ]]\n",
            "[[ 0.35414612  0.3664054  -0.11415887 -0.17193569 -0.49140397 -0.44808318\n",
            "   0.31689093  0.31254789  0.27744251 -0.40185114]\n",
            " [ 0.10659383  0.05706276  0.02519824  0.35627692 -0.13640986 -0.38824372\n",
            "   0.32063164 -0.47283499  0.42444217 -0.29271698]\n",
            " [-0.29274403  0.10286931  0.41170341 -0.15826427 -0.23847191  0.1112693\n",
            "   0.12752877 -0.11815233  0.32999845 -0.27573671]\n",
            " [-0.13149945 -0.35206631  0.14468666 -0.25936491 -0.31207331  0.04828565\n",
            "  -0.06672772  0.44280821  0.23318177  0.25276943]\n",
            " [-0.27220932 -0.4335494   0.24839007 -0.28257331  0.19960337 -0.29587368\n",
            "   0.09206206  0.36631728  0.27101779  0.10681513]]\n"
          ]
        }
      ],
      "source": [
        "X = np.random.rand(5, 10)\n",
        "Y = X - X.mean(axis=1, keepdims=True)\n",
        "print(X)\n",
        "print(Y)"
      ]
    },
    {
      "cell_type": "markdown",
      "metadata": {
        "id": "hNBQQuhWb_Po"
      },
      "source": [
        "#### 59. How to sort an array by the nth column? (★★☆) \n",
        "(**hint**: argsort)"
      ]
    },
    {
      "cell_type": "code",
      "execution_count": 214,
      "metadata": {
        "id": "PEjnbFGyb_Po",
        "colab": {
          "base_uri": "https://localhost:8080/"
        },
        "outputId": "8586aa67-d7a7-41c7-d28d-65ba46f7d9c4"
      },
      "outputs": [
        {
          "output_type": "stream",
          "name": "stdout",
          "text": [
            "[[4 4 8]\n",
            " [3 7 3]\n",
            " [5 0 7]]\n",
            "[[5 0 7]\n",
            " [4 4 8]\n",
            " [3 7 3]]\n"
          ]
        }
      ],
      "source": [
        "Z = np.random.randint(0,10,(3,3))\n",
        "print(Z)\n",
        "print(Z[Z[:,1].argsort()])"
      ]
    },
    {
      "cell_type": "markdown",
      "metadata": {
        "id": "MejSZVk0b_Po"
      },
      "source": [
        "#### 60. How to tell if a given 2D array has null columns? (★★☆) \n",
        "(**hint**: any, ~)"
      ]
    },
    {
      "cell_type": "code",
      "execution_count": 223,
      "metadata": {
        "id": "1lz_iOXEb_Pp",
        "colab": {
          "base_uri": "https://localhost:8080/"
        },
        "outputId": "612b7f55-bead-4f8f-f58f-89ab5bd5a845"
      },
      "outputs": [
        {
          "output_type": "stream",
          "name": "stdout",
          "text": [
            "False\n"
          ]
        }
      ],
      "source": [
        "#Z = np.random.randint(0,3,(3,10))\n",
        "Z = np.array([1,0,4,2,3,4])\n",
        "print((~Z.any(axis=0)).any())"
      ]
    },
    {
      "cell_type": "markdown",
      "metadata": {
        "id": "TwJF6Fy2b_Pp"
      },
      "source": [
        "#### 61. Find the nearest value from a given value in an array (★★☆) \n",
        "(**hint**: np.abs, argmin, flat)"
      ]
    },
    {
      "cell_type": "code",
      "execution_count": 225,
      "metadata": {
        "id": "PI8PkQ9wb_Pp",
        "colab": {
          "base_uri": "https://localhost:8080/"
        },
        "outputId": "a5f01f15-c184-404f-979d-f97999475ac2"
      },
      "outputs": [
        {
          "output_type": "stream",
          "name": "stdout",
          "text": [
            "4.837387318039572\n"
          ]
        }
      ],
      "source": [
        "Z = np.random.uniform(0,10,10)\n",
        "n = 5\n",
        "m = Z.flat[np.abs(Z - n).argmin()]\n",
        "print(m)"
      ]
    },
    {
      "cell_type": "markdown",
      "metadata": {
        "id": "ytywcP6ob_Pp"
      },
      "source": [
        "#### 62. Considering two arrays with shape (1,3) and (3,1), how to compute their sum using an iterator? (★★☆) \n",
        "(**hint**: np.nditer)"
      ]
    },
    {
      "cell_type": "code",
      "execution_count": 232,
      "metadata": {
        "id": "_HlQLucEb_Pp",
        "colab": {
          "base_uri": "https://localhost:8080/"
        },
        "outputId": "38a6ff81-3ce7-47d4-dae9-fdb70eabc657"
      },
      "outputs": [
        {
          "output_type": "stream",
          "name": "stdout",
          "text": [
            "[[0]\n",
            " [1]\n",
            " [2]]\n",
            "---------\n",
            "[[0 1 2]]\n",
            "---------\n",
            "[[0 1 2]\n",
            " [1 2 3]\n",
            " [2 3 4]]\n"
          ]
        }
      ],
      "source": [
        "A = np.arange(3).reshape(3,1)\n",
        "B = np.arange(3).reshape(1,3)\n",
        "it = np.nditer([A,B,None])\n",
        "print(A,end=\"\\n---------\\n\")\n",
        "print(B,end=\"\\n---------\\n\")\n",
        "for x,y,z in it: \n",
        "  z[...] = x + y\n",
        "print(it.operands[2])"
      ]
    },
    {
      "cell_type": "markdown",
      "metadata": {
        "id": "6XE-nVevb_Pp"
      },
      "source": [
        "#### 63. Create an array class that has a name attribute (★★☆) \n",
        "(**hint**: class method)"
      ]
    },
    {
      "cell_type": "code",
      "execution_count": 234,
      "metadata": {
        "id": "nXJl_bvnb_Pp",
        "colab": {
          "base_uri": "https://localhost:8080/"
        },
        "outputId": "c32e1830-d0f1-4e45-854c-0f3f036c5f90"
      },
      "outputs": [
        {
          "output_type": "stream",
          "name": "stdout",
          "text": [
            "My Array\n"
          ]
        }
      ],
      "source": [
        "class NamedArray(np.ndarray):\n",
        "    def __new__(cls, array, name=\"no name\"):\n",
        "        obj = np.asarray(array).view(cls)\n",
        "        obj.name = name\n",
        "        return obj\n",
        "    def __array_finalize__(self, obj):\n",
        "        if obj is None: return\n",
        "        self.info = getattr(obj, 'name', \"no name\")\n",
        "\n",
        "Z = NamedArray(np.arange(10), \"My Array\")\n",
        "print (Z.name)"
      ]
    },
    {
      "cell_type": "markdown",
      "metadata": {
        "id": "2QPc4XmPb_Pp"
      },
      "source": [
        "#### 64. Consider a given vector, how to add 1 to each element indexed by a second vector (be careful with repeated indices)? (★★★) \n",
        "(**hint**: np.bincount | np.add.at)"
      ]
    },
    {
      "cell_type": "code",
      "execution_count": 236,
      "metadata": {
        "id": "h9L0T0-Yb_Pp",
        "colab": {
          "base_uri": "https://localhost:8080/"
        },
        "outputId": "04aa9349-7fc1-4cbf-8e14-65e78cdb95c3"
      },
      "outputs": [
        {
          "output_type": "stream",
          "name": "stdout",
          "text": [
            "[2. 2. 3. 2. 3. 2. 2. 8. 3. 3.]\n"
          ]
        }
      ],
      "source": [
        "Z = np.ones(10)\n",
        "I = np.random.randint(0,len(Z),20)\n",
        "np.add.at(Z, I, 1)\n",
        "print(Z)"
      ]
    },
    {
      "cell_type": "markdown",
      "metadata": {
        "id": "LxFGhj_6b_Pp"
      },
      "source": [
        "#### 65. How to accumulate elements of a vector (X) to an array (F) based on an index list (I)? (★★★) \n",
        "(**hint**: np.bincount)"
      ]
    },
    {
      "cell_type": "code",
      "execution_count": 237,
      "metadata": {
        "id": "hy3nNmcOb_Pq",
        "colab": {
          "base_uri": "https://localhost:8080/"
        },
        "outputId": "0cccf2aa-869e-4b40-a288-7e5dd9f40564"
      },
      "outputs": [
        {
          "output_type": "stream",
          "name": "stdout",
          "text": [
            "[0. 7. 0. 6. 5. 0. 0. 0. 0. 3.]\n"
          ]
        }
      ],
      "source": [
        "X = [1,2,3,4,5,6]\n",
        "I = [1,3,9,3,4,1]\n",
        "F = np.bincount(I,X)\n",
        "print(F)"
      ]
    },
    {
      "cell_type": "markdown",
      "metadata": {
        "id": "4H_GxZXob_Pq"
      },
      "source": [
        "#### 66. Considering a (w,h,3) image of (dtype=ubyte), compute the number of unique colors (★★★) \n",
        "(**hint**: np.unique)"
      ]
    },
    {
      "cell_type": "code",
      "execution_count": null,
      "metadata": {
        "id": "EkY6as2kb_Pr"
      },
      "outputs": [],
      "source": [
        ""
      ]
    },
    {
      "cell_type": "markdown",
      "metadata": {
        "id": "2l8vzmV7b_Pr"
      },
      "source": [
        "#### 67. Considering a four dimensions array, how to get sum over the last two axis at once? (★★★) \n",
        "(**hint**: sum(axis=(-2,-1)))"
      ]
    },
    {
      "cell_type": "code",
      "execution_count": 270,
      "metadata": {
        "id": "ydFn9XhTb_Pr",
        "colab": {
          "base_uri": "https://localhost:8080/"
        },
        "outputId": "e4dc95e0-8440-4356-ecfe-5f171ea25679"
      },
      "outputs": [
        {
          "output_type": "stream",
          "name": "stdout",
          "text": [
            "[[50 52 39 44]\n",
            " [45 48 75 54]\n",
            " [68 54 49 54]]\n"
          ]
        }
      ],
      "source": [
        "A = np.random.randint(0,10,(3,4,3,4))\n",
        "sum = A.sum(axis=(-2,-1))\n",
        "print(sum)"
      ]
    },
    {
      "cell_type": "markdown",
      "metadata": {
        "id": "NIBeaLFZb_Pr"
      },
      "source": [
        "#### 68. Considering a one-dimensional vector D, how to compute means of subsets of D using a vector S of same size describing subset  indices? (★★★) \n",
        "(**hint**: np.bincount)"
      ]
    },
    {
      "cell_type": "code",
      "execution_count": 271,
      "metadata": {
        "id": "e_FmYjpgb_Pr",
        "colab": {
          "base_uri": "https://localhost:8080/"
        },
        "outputId": "474a846f-db67-4ef2-9632-fb959141a643"
      },
      "outputs": [
        {
          "output_type": "stream",
          "name": "stdout",
          "text": [
            "[0.54778149 0.34441234 0.59260748 0.35638074 0.59589713 0.58976017\n",
            " 0.52594564 0.46135479 0.50895803 0.62675384]\n"
          ]
        }
      ],
      "source": [
        "D = np.random.uniform(0,1,100)\n",
        "S = np.random.randint(0,10,100)\n",
        "sum = np.bincount(S,weights=D)\n",
        "count = np.bincount(S)\n",
        "means = sum/count\n",
        "print(means)"
      ]
    },
    {
      "cell_type": "markdown",
      "metadata": {
        "id": "QocSYX5db_Pr"
      },
      "source": [
        "#### 69. How to get the diagonal of a dot product? (★★★) \n",
        "(**hint**: np.diag)"
      ]
    },
    {
      "cell_type": "code",
      "execution_count": 272,
      "metadata": {
        "id": "HnZ_CEQBb_Pr",
        "colab": {
          "base_uri": "https://localhost:8080/"
        },
        "outputId": "241082ee-0b2c-4207-b526-6b22e709c609"
      },
      "outputs": [
        {
          "output_type": "execute_result",
          "data": {
            "text/plain": [
              "array([1.35295127, 2.0603868 , 0.88115501, 2.25230315, 1.46021841])"
            ]
          },
          "metadata": {},
          "execution_count": 272
        }
      ],
      "source": [
        "A = np.random.uniform(0,1,(5,5))\n",
        "B = np.random.uniform(0,1,(5,5))\n",
        "  \n",
        "np.diag(np.dot(A, B))"
      ]
    },
    {
      "cell_type": "markdown",
      "metadata": {
        "id": "G2KswkoQb_Pr"
      },
      "source": [
        "#### 70. Consider the vector \\[1, 2, 3, 4, 5\\], how to build a new vector with 3 consecutive zeros interleaved between each value? (★★★) \n",
        "(**hint**: array\\[::4\\])"
      ]
    },
    {
      "cell_type": "code",
      "execution_count": 273,
      "metadata": {
        "id": "l8OUoRt9b_Pr",
        "colab": {
          "base_uri": "https://localhost:8080/"
        },
        "outputId": "0c1c7ecf-80a2-4fb1-875a-a4333f06ab2d"
      },
      "outputs": [
        {
          "output_type": "stream",
          "name": "stdout",
          "text": [
            "[1. 0. 0. 0. 2. 0. 0. 0. 3. 0. 0. 0. 4. 0. 0. 0. 5.]\n"
          ]
        }
      ],
      "source": [
        "Z = np.array([1,2,3,4,5])\n",
        "nz = 3\n",
        "v = np.zeros(len(Z) + (len(Z)-1)*(nz))\n",
        "v[::nz+1] = Z\n",
        "print(v)"
      ]
    },
    {
      "cell_type": "markdown",
      "metadata": {
        "id": "fgGmInP8b_Pr"
      },
      "source": [
        "#### 71. Consider an array of dimension (5,5,3), how to mulitply it by an array with dimensions (5,5)? (★★★) \n",
        "(**hint**: array\\[:, :, None\\])"
      ]
    },
    {
      "cell_type": "code",
      "execution_count": 274,
      "metadata": {
        "collapsed": true,
        "id": "OwDqRUpCb_Ps",
        "colab": {
          "base_uri": "https://localhost:8080/"
        },
        "outputId": "70756655-3dab-4fef-ed41-3415d531bbaa"
      },
      "outputs": [
        {
          "output_type": "stream",
          "name": "stdout",
          "text": [
            "[[[2. 2. 2.]\n",
            "  [2. 2. 2.]\n",
            "  [2. 2. 2.]\n",
            "  [2. 2. 2.]\n",
            "  [2. 2. 2.]]\n",
            "\n",
            " [[2. 2. 2.]\n",
            "  [2. 2. 2.]\n",
            "  [2. 2. 2.]\n",
            "  [2. 2. 2.]\n",
            "  [2. 2. 2.]]\n",
            "\n",
            " [[2. 2. 2.]\n",
            "  [2. 2. 2.]\n",
            "  [2. 2. 2.]\n",
            "  [2. 2. 2.]\n",
            "  [2. 2. 2.]]\n",
            "\n",
            " [[2. 2. 2.]\n",
            "  [2. 2. 2.]\n",
            "  [2. 2. 2.]\n",
            "  [2. 2. 2.]\n",
            "  [2. 2. 2.]]\n",
            "\n",
            " [[2. 2. 2.]\n",
            "  [2. 2. 2.]\n",
            "  [2. 2. 2.]\n",
            "  [2. 2. 2.]\n",
            "  [2. 2. 2.]]]\n"
          ]
        }
      ],
      "source": [
        "A = np.ones((5,5,3))\n",
        "B = 2*np.ones((5,5))\n",
        "print(A * B[:,:,None])"
      ]
    },
    {
      "cell_type": "markdown",
      "metadata": {
        "id": "F1JFAywWb_Ps"
      },
      "source": [
        "#### 72. How to swap two rows of an array? (★★★) \n",
        "(**hint**: array\\[\\[\\]\\] = array\\[\\[\\]\\])"
      ]
    },
    {
      "cell_type": "code",
      "execution_count": 275,
      "metadata": {
        "id": "DKxqF4H5b_Ps",
        "colab": {
          "base_uri": "https://localhost:8080/"
        },
        "outputId": "a2c07658-fcfe-446d-a224-ebfbbcb10946"
      },
      "outputs": [
        {
          "output_type": "stream",
          "name": "stdout",
          "text": [
            "[[ 0  1  2  3  4]\n",
            " [ 5  6  7  8  9]\n",
            " [10 11 12 13 14]\n",
            " [15 16 17 18 19]\n",
            " [20 21 22 23 24]]\n",
            "--------------------------\n",
            "[[ 5  6  7  8  9]\n",
            " [ 0  1  2  3  4]\n",
            " [10 11 12 13 14]\n",
            " [15 16 17 18 19]\n",
            " [20 21 22 23 24]]\n"
          ]
        }
      ],
      "source": [
        "A = np.arange(25).reshape(5,5)\n",
        "print(A)\n",
        "print(\"--------------------------\")\n",
        "A[[0,1]] = A[[1,0]]\n",
        "print(A)"
      ]
    },
    {
      "cell_type": "markdown",
      "metadata": {
        "id": "LJZLg_1ab_Ps"
      },
      "source": [
        "#### 73. Consider a set of 10 triplets describing 10 triangles (with shared vertices), find the set of unique line segments composing all the  triangles (★★★) \n",
        "(**hint**: repeat, np.roll, np.sort, view, np.unique)"
      ]
    },
    {
      "cell_type": "code",
      "execution_count": null,
      "metadata": {
        "id": "qCy2SQUpb_Ps"
      },
      "outputs": [],
      "source": [
        ""
      ]
    },
    {
      "cell_type": "markdown",
      "metadata": {
        "id": "p7EMjJkPb_Ps"
      },
      "source": [
        "#### 74. Given an array C that is a bincount, how to produce an array A such that np.bincount(A) == C? (★★★) \n",
        "(**hint**: np.repeat)"
      ]
    },
    {
      "cell_type": "code",
      "execution_count": 277,
      "metadata": {
        "id": "kujlzl4qb_Ps",
        "colab": {
          "base_uri": "https://localhost:8080/"
        },
        "outputId": "aef98664-d2be-437a-e125-cb93d9b1486f"
      },
      "outputs": [
        {
          "output_type": "stream",
          "name": "stdout",
          "text": [
            "[0 2 1 1 2 0 1]\n",
            "[0 2 1 1 2 0 1]\n"
          ]
        }
      ],
      "source": [
        "C = np.bincount([1,1,2,3,4,4,6])\n",
        "print(C)\n",
        "A = np.repeat(np.arange(len(C)), C)\n",
        "print(np.bincount(A))"
      ]
    },
    {
      "cell_type": "markdown",
      "metadata": {
        "id": "Fe_Dw-CVb_Ps"
      },
      "source": [
        "#### 75. How to compute averages using a sliding window over an array? (★★★) \n",
        "(**hint**: np.cumsum)"
      ]
    },
    {
      "cell_type": "code",
      "execution_count": 278,
      "metadata": {
        "id": "8VtftDANb_Ps",
        "colab": {
          "base_uri": "https://localhost:8080/"
        },
        "outputId": "a3fb4fdb-5e47-4fff-8ca1-c55905e797a2"
      },
      "outputs": [
        {
          "output_type": "stream",
          "name": "stdout",
          "text": [
            "[ 1.  2.  3.  4.  5.  6.  7.  8.  9. 10. 11. 12. 13. 14. 15. 16. 17. 18.]\n"
          ]
        }
      ],
      "source": [
        "def moving_average(a, n=3) :\n",
        "    ret = np.cumsum(a, dtype=float)\n",
        "    ret[n:] = ret[n:] - ret[:-n]\n",
        "    return ret[n - 1:] / n\n",
        "Z = np.arange(20)\n",
        "print(moving_average(Z, n=3))"
      ]
    },
    {
      "cell_type": "markdown",
      "metadata": {
        "id": "m0wp5ecbb_Ps"
      },
      "source": [
        "#### 76. Consider a one-dimensional array Z, build a two-dimensional array whose first row is (Z\\[0\\],Z\\[1\\],Z\\[2\\]) and each subsequent row is  shifted by 1 (last row should be (Z\\[-3\\],Z\\[-2\\],Z\\[-1\\]) (★★★) \n",
        "(**hint**: from numpy.lib import stride_tricks)"
      ]
    },
    {
      "cell_type": "code",
      "execution_count": null,
      "metadata": {
        "id": "hXdl3K4zb_Pt"
      },
      "outputs": [],
      "source": [
        ""
      ]
    },
    {
      "cell_type": "markdown",
      "metadata": {
        "id": "UgBh6rJ3b_Pt"
      },
      "source": [
        "#### 77. How to negate a boolean, or to change the sign of a float inplace? (★★★) \n",
        "(**hint**: np.logical_not, np.negative)"
      ]
    },
    {
      "cell_type": "code",
      "execution_count": 282,
      "metadata": {
        "id": "ZAI7Amypb_Pt",
        "colab": {
          "base_uri": "https://localhost:8080/"
        },
        "outputId": "a2436ae2-22e9-4ce5-daa2-66449a19856a"
      },
      "outputs": [
        {
          "output_type": "stream",
          "name": "stdout",
          "text": [
            "[0 0 0 0 0 1 1 1 0 0 0 0 0 0 0 0 1 0 1 0 1 1 0 0 0 1 1 1 1 0 1 1 1 1 1 0 0\n",
            " 0 0 1 0 1 0 0 1 1 1 1 1 1 0 0 0 0 1 0 1 1 1 0 1 1 1 0 1 1 0 1 0 1 0 1 1 1\n",
            " 1 0 0 0 0 0 0 1 0 1 0 1 0 1 0 1 1 1 0 1 0 1 0 1 0 0]\n",
            "[1 1 1 1 1 0 0 0 1 1 1 1 1 1 1 1 0 1 0 1 0 0 1 1 1 0 0 0 0 1 0 0 0 0 0 1 1\n",
            " 1 1 0 1 0 1 1 0 0 0 0 0 0 1 1 1 1 0 1 0 0 0 1 0 0 0 1 0 0 1 0 1 0 1 0 0 0\n",
            " 0 1 1 1 1 1 1 0 1 0 1 0 1 0 1 0 0 0 1 0 1 0 1 0 1 1]\n",
            "---------------------------------------------------------\n",
            "[-0.7834323  -0.10976188 -0.98477352  0.13792362  0.23912403  0.61294686\n",
            "  0.63166869 -0.97174724  0.16342116 -0.63333743 -0.22633106  0.35571746\n",
            " -0.23907269  0.87336419 -0.49167143 -0.21635462 -0.72010279  0.42530356\n",
            " -0.80718377  0.93167277  0.38149206  0.85570147  0.89231996 -0.32402855\n",
            " -0.08579277 -0.4747112  -0.85038178  0.34586843 -0.17995995  0.5517304\n",
            "  0.31868654 -0.44718845  0.07568594  0.33426308 -0.43416377 -0.15850777\n",
            "  0.48982505  0.49529529  0.25798339  0.2578013  -0.96929209  0.31232814\n",
            " -0.82627024  0.40799643  0.56783786 -0.52298801 -0.52045948 -0.26702591\n",
            "  0.26823462 -0.99572912  0.65307109 -0.38894773  0.00988572 -0.32342208\n",
            " -0.05211984 -0.25526178 -0.64283961 -0.21886305  0.38765175  0.92998644\n",
            "  0.71998789  0.92732376  0.72959108 -0.98375267  0.26942119 -0.60901335\n",
            " -0.47318107  0.92985515  0.48549552 -0.87111633 -0.64629324 -0.63372622\n",
            "  0.62280262  0.67776481  0.99881771  0.23561611 -0.27933918  0.15834769\n",
            " -0.37827775  0.75833364 -0.24236821  0.41437768 -0.6263158  -0.68832871\n",
            "  0.06494241  0.07368337  0.50048161  0.67384415  0.63618779  0.19438415\n",
            " -0.66373648  0.7788576   0.30084595  0.85287575 -0.70784944 -0.65193112\n",
            "  0.86944708  0.51125844  0.07796301 -0.24367778]\n",
            "[ 0.7834323   0.10976188  0.98477352 -0.13792362 -0.23912403 -0.61294686\n",
            " -0.63166869  0.97174724 -0.16342116  0.63333743  0.22633106 -0.35571746\n",
            "  0.23907269 -0.87336419  0.49167143  0.21635462  0.72010279 -0.42530356\n",
            "  0.80718377 -0.93167277 -0.38149206 -0.85570147 -0.89231996  0.32402855\n",
            "  0.08579277  0.4747112   0.85038178 -0.34586843  0.17995995 -0.5517304\n",
            " -0.31868654  0.44718845 -0.07568594 -0.33426308  0.43416377  0.15850777\n",
            " -0.48982505 -0.49529529 -0.25798339 -0.2578013   0.96929209 -0.31232814\n",
            "  0.82627024 -0.40799643 -0.56783786  0.52298801  0.52045948  0.26702591\n",
            " -0.26823462  0.99572912 -0.65307109  0.38894773 -0.00988572  0.32342208\n",
            "  0.05211984  0.25526178  0.64283961  0.21886305 -0.38765175 -0.92998644\n",
            " -0.71998789 -0.92732376 -0.72959108  0.98375267 -0.26942119  0.60901335\n",
            "  0.47318107 -0.92985515 -0.48549552  0.87111633  0.64629324  0.63372622\n",
            " -0.62280262 -0.67776481 -0.99881771 -0.23561611  0.27933918 -0.15834769\n",
            "  0.37827775 -0.75833364  0.24236821 -0.41437768  0.6263158   0.68832871\n",
            " -0.06494241 -0.07368337 -0.50048161 -0.67384415 -0.63618779 -0.19438415\n",
            "  0.66373648 -0.7788576  -0.30084595 -0.85287575  0.70784944  0.65193112\n",
            " -0.86944708 -0.51125844 -0.07796301  0.24367778]\n"
          ]
        }
      ],
      "source": [
        "Z = np.random.randint(0,2,100)\n",
        "print(Z)\n",
        "np.logical_not(Z, out=Z)\n",
        "print(Z)\n",
        "print(\"---------------------------------------------------------\")\n",
        "Z = np.random.uniform(-1.0,1.0,100)\n",
        "print(Z)\n",
        "np.negative(Z, out=Z)\n",
        "print(Z)"
      ]
    },
    {
      "cell_type": "markdown",
      "metadata": {
        "id": "ENsM5TX2b_Pt"
      },
      "source": [
        "#### 78. Consider 2 sets of points P0,P1 describing lines (2d) and a point p, how to compute distance from p to each line i  (P0\\[i\\],P1\\[i\\])? (★★★)"
      ]
    },
    {
      "cell_type": "code",
      "execution_count": null,
      "metadata": {
        "id": "mQ32gBoPb_Pt"
      },
      "outputs": [],
      "source": [
        ""
      ]
    },
    {
      "cell_type": "markdown",
      "metadata": {
        "id": "ifaiOWlpb_Pt"
      },
      "source": [
        "#### 79. Consider 2 sets of points P0,P1 describing lines (2d) and a set of points P, how to compute distance from each point j (P\\[j\\]) to each line i (P0\\[i\\],P1\\[i\\])? (★★★)"
      ]
    },
    {
      "cell_type": "code",
      "execution_count": null,
      "metadata": {
        "id": "T-nOX0IFb_Pt"
      },
      "outputs": [],
      "source": [
        ""
      ]
    },
    {
      "cell_type": "markdown",
      "metadata": {
        "id": "ZSTUmcWPb_Pt"
      },
      "source": [
        "#### 80. Consider an arbitrary array, write a function that extract a subpart with a fixed shape and centered on a given element (pad with a `fill` value when necessary) (★★★) \n",
        "(**hint**: minimum, maximum)"
      ]
    },
    {
      "cell_type": "code",
      "execution_count": null,
      "metadata": {
        "id": "gl1ODxcsb_Pt"
      },
      "outputs": [],
      "source": [
        ""
      ]
    },
    {
      "cell_type": "markdown",
      "metadata": {
        "id": "kGxJzCvlb_Pt"
      },
      "source": [
        "#### 81. Consider an array Z = \\[1,2,3,4,5,6,7,8,9,10,11,12,13,14\\], how to generate an array R = \\[\\[1,2,3,4\\], \\[2,3,4,5\\], \\[3,4,5,6\\], ..., \\[11,12,13,14\\]\\]? (★★★) \n",
        "(**hint**: stride\\_tricks.as\\_strided)"
      ]
    },
    {
      "cell_type": "code",
      "execution_count": 295,
      "metadata": {
        "id": "NILSZJS0b_Pu",
        "colab": {
          "base_uri": "https://localhost:8080/"
        },
        "outputId": "ee9e612c-ca7b-4ffd-b93b-d49d5e3ec8dc"
      },
      "outputs": [
        {
          "output_type": "stream",
          "name": "stdout",
          "text": [
            "[[ 1  2  3  4]\n",
            " [ 2  3  4  5]\n",
            " [ 3  4  5  6]\n",
            " [ 4  5  6  7]\n",
            " [ 5  6  7  8]\n",
            " [ 6  7  8  9]\n",
            " [ 7  8  9 10]\n",
            " [ 8  9 10 11]\n",
            " [ 9 10 11 12]\n",
            " [10 11 12 13]\n",
            " [11 12 13 14]]\n"
          ]
        }
      ],
      "source": [
        "import numpy.lib.stride_tricks as stride_tricks\n",
        "Z = np.arange(1,15,dtype=np.uint32)\n",
        "R = stride_tricks.as_strided(Z,(11,4),(4,4))\n",
        "print(R)"
      ]
    },
    {
      "cell_type": "markdown",
      "metadata": {
        "id": "ho_zw1Yob_Pu"
      },
      "source": [
        "#### 82. Compute a matrix rank (★★★) \n",
        "(**hint**: np.linalg.svd) (suggestion: np.linalg.svd)"
      ]
    },
    {
      "cell_type": "code",
      "execution_count": 287,
      "metadata": {
        "id": "64lcyz5bb_Pu",
        "colab": {
          "base_uri": "https://localhost:8080/"
        },
        "outputId": "6ab59a0f-9e20-4726-efb2-2ef7d2c273aa"
      },
      "outputs": [
        {
          "output_type": "stream",
          "name": "stdout",
          "text": [
            "10\n"
          ]
        }
      ],
      "source": [
        "Z = np.random.uniform(0,1,(10,15))\n",
        "U, S, V = np.linalg.svd(Z) # Singular Value Decomposition\n",
        "rank = np.sum(S > 1e-10)\n",
        "print(rank)"
      ]
    },
    {
      "cell_type": "markdown",
      "metadata": {
        "id": "sQl7TtJ7b_Pu"
      },
      "source": [
        "#### 83. How to find the most frequent value in an array? \n",
        "(**hint**: np.bincount, argmax)"
      ]
    },
    {
      "cell_type": "code",
      "execution_count": 293,
      "metadata": {
        "id": "qZQSIu79b_Pu",
        "colab": {
          "base_uri": "https://localhost:8080/"
        },
        "outputId": "a26c8ae3-a9b3-401a-90ae-969527f867bc"
      },
      "outputs": [
        {
          "output_type": "stream",
          "name": "stdout",
          "text": [
            "[7 8 4 0 6 1 4 4 3 5 6 6 0 7 2 6 3 9 8 8 5 0 2 6 0 4 9 7 2 5 4 4 5 8 7 1 1\n",
            " 9 7 8 9 6 2 9 3 3 9 4 5 4]\n",
            "4\n"
          ]
        }
      ],
      "source": [
        "z = np.random.randint(0,10,50)\n",
        "print(z)\n",
        "print(np.bincount(z).argmax())"
      ]
    },
    {
      "cell_type": "markdown",
      "metadata": {
        "id": "6x1UrtxLb_Pu"
      },
      "source": [
        "#### 84. Extract all the contiguous 3x3 blocks from a random 10x10 matrix (★★★) \n",
        "(**hint**: stride\\_tricks.as\\_strided)"
      ]
    },
    {
      "cell_type": "code",
      "execution_count": 296,
      "metadata": {
        "id": "NcdL8r8Ab_Pu",
        "colab": {
          "base_uri": "https://localhost:8080/"
        },
        "outputId": "b358121b-e17b-4f12-87b8-99fdfa0b2b64"
      },
      "outputs": [
        {
          "output_type": "stream",
          "name": "stdout",
          "text": [
            "[[[[0 2 0]\n",
            "   [1 1 2]\n",
            "   [1 4 1]]\n",
            "\n",
            "  [[2 0 2]\n",
            "   [1 2 1]\n",
            "   [4 1 0]]\n",
            "\n",
            "  [[0 2 4]\n",
            "   [2 1 2]\n",
            "   [1 0 4]]\n",
            "\n",
            "  [[2 4 4]\n",
            "   [1 2 0]\n",
            "   [0 4 1]]\n",
            "\n",
            "  [[4 4 1]\n",
            "   [2 0 2]\n",
            "   [4 1 1]]\n",
            "\n",
            "  [[4 1 3]\n",
            "   [0 2 0]\n",
            "   [1 1 0]]\n",
            "\n",
            "  [[1 3 4]\n",
            "   [2 0 4]\n",
            "   [1 0 0]]\n",
            "\n",
            "  [[3 4 2]\n",
            "   [0 4 0]\n",
            "   [0 0 3]]]\n",
            "\n",
            "\n",
            " [[[1 1 2]\n",
            "   [1 4 1]\n",
            "   [2 1 4]]\n",
            "\n",
            "  [[1 2 1]\n",
            "   [4 1 0]\n",
            "   [1 4 0]]\n",
            "\n",
            "  [[2 1 2]\n",
            "   [1 0 4]\n",
            "   [4 0 3]]\n",
            "\n",
            "  [[1 2 0]\n",
            "   [0 4 1]\n",
            "   [0 3 1]]\n",
            "\n",
            "  [[2 0 2]\n",
            "   [4 1 1]\n",
            "   [3 1 0]]\n",
            "\n",
            "  [[0 2 0]\n",
            "   [1 1 0]\n",
            "   [1 0 4]]\n",
            "\n",
            "  [[2 0 4]\n",
            "   [1 0 0]\n",
            "   [0 4 4]]\n",
            "\n",
            "  [[0 4 0]\n",
            "   [0 0 3]\n",
            "   [4 4 3]]]\n",
            "\n",
            "\n",
            " [[[1 4 1]\n",
            "   [2 1 4]\n",
            "   [4 0 3]]\n",
            "\n",
            "  [[4 1 0]\n",
            "   [1 4 0]\n",
            "   [0 3 3]]\n",
            "\n",
            "  [[1 0 4]\n",
            "   [4 0 3]\n",
            "   [3 3 0]]\n",
            "\n",
            "  [[0 4 1]\n",
            "   [0 3 1]\n",
            "   [3 0 0]]\n",
            "\n",
            "  [[4 1 1]\n",
            "   [3 1 0]\n",
            "   [0 0 0]]\n",
            "\n",
            "  [[1 1 0]\n",
            "   [1 0 4]\n",
            "   [0 0 3]]\n",
            "\n",
            "  [[1 0 0]\n",
            "   [0 4 4]\n",
            "   [0 3 0]]\n",
            "\n",
            "  [[0 0 3]\n",
            "   [4 4 3]\n",
            "   [3 0 0]]]\n",
            "\n",
            "\n",
            " [[[2 1 4]\n",
            "   [4 0 3]\n",
            "   [3 2 2]]\n",
            "\n",
            "  [[1 4 0]\n",
            "   [0 3 3]\n",
            "   [2 2 0]]\n",
            "\n",
            "  [[4 0 3]\n",
            "   [3 3 0]\n",
            "   [2 0 4]]\n",
            "\n",
            "  [[0 3 1]\n",
            "   [3 0 0]\n",
            "   [0 4 3]]\n",
            "\n",
            "  [[3 1 0]\n",
            "   [0 0 0]\n",
            "   [4 3 0]]\n",
            "\n",
            "  [[1 0 4]\n",
            "   [0 0 3]\n",
            "   [3 0 2]]\n",
            "\n",
            "  [[0 4 4]\n",
            "   [0 3 0]\n",
            "   [0 2 3]]\n",
            "\n",
            "  [[4 4 3]\n",
            "   [3 0 0]\n",
            "   [2 3 4]]]\n",
            "\n",
            "\n",
            " [[[4 0 3]\n",
            "   [3 2 2]\n",
            "   [4 2 2]]\n",
            "\n",
            "  [[0 3 3]\n",
            "   [2 2 0]\n",
            "   [2 2 3]]\n",
            "\n",
            "  [[3 3 0]\n",
            "   [2 0 4]\n",
            "   [2 3 0]]\n",
            "\n",
            "  [[3 0 0]\n",
            "   [0 4 3]\n",
            "   [3 0 3]]\n",
            "\n",
            "  [[0 0 0]\n",
            "   [4 3 0]\n",
            "   [0 3 0]]\n",
            "\n",
            "  [[0 0 3]\n",
            "   [3 0 2]\n",
            "   [3 0 3]]\n",
            "\n",
            "  [[0 3 0]\n",
            "   [0 2 3]\n",
            "   [0 3 2]]\n",
            "\n",
            "  [[3 0 0]\n",
            "   [2 3 4]\n",
            "   [3 2 4]]]\n",
            "\n",
            "\n",
            " [[[3 2 2]\n",
            "   [4 2 2]\n",
            "   [2 3 0]]\n",
            "\n",
            "  [[2 2 0]\n",
            "   [2 2 3]\n",
            "   [3 0 2]]\n",
            "\n",
            "  [[2 0 4]\n",
            "   [2 3 0]\n",
            "   [0 2 4]]\n",
            "\n",
            "  [[0 4 3]\n",
            "   [3 0 3]\n",
            "   [2 4 0]]\n",
            "\n",
            "  [[4 3 0]\n",
            "   [0 3 0]\n",
            "   [4 0 2]]\n",
            "\n",
            "  [[3 0 2]\n",
            "   [3 0 3]\n",
            "   [0 2 1]]\n",
            "\n",
            "  [[0 2 3]\n",
            "   [0 3 2]\n",
            "   [2 1 0]]\n",
            "\n",
            "  [[2 3 4]\n",
            "   [3 2 4]\n",
            "   [1 0 3]]]\n",
            "\n",
            "\n",
            " [[[4 2 2]\n",
            "   [2 3 0]\n",
            "   [0 0 1]]\n",
            "\n",
            "  [[2 2 3]\n",
            "   [3 0 2]\n",
            "   [0 1 4]]\n",
            "\n",
            "  [[2 3 0]\n",
            "   [0 2 4]\n",
            "   [1 4 0]]\n",
            "\n",
            "  [[3 0 3]\n",
            "   [2 4 0]\n",
            "   [4 0 1]]\n",
            "\n",
            "  [[0 3 0]\n",
            "   [4 0 2]\n",
            "   [0 1 4]]\n",
            "\n",
            "  [[3 0 3]\n",
            "   [0 2 1]\n",
            "   [1 4 3]]\n",
            "\n",
            "  [[0 3 2]\n",
            "   [2 1 0]\n",
            "   [4 3 1]]\n",
            "\n",
            "  [[3 2 4]\n",
            "   [1 0 3]\n",
            "   [3 1 4]]]\n",
            "\n",
            "\n",
            " [[[2 3 0]\n",
            "   [0 0 1]\n",
            "   [4 1 1]]\n",
            "\n",
            "  [[3 0 2]\n",
            "   [0 1 4]\n",
            "   [1 1 0]]\n",
            "\n",
            "  [[0 2 4]\n",
            "   [1 4 0]\n",
            "   [1 0 4]]\n",
            "\n",
            "  [[2 4 0]\n",
            "   [4 0 1]\n",
            "   [0 4 1]]\n",
            "\n",
            "  [[4 0 2]\n",
            "   [0 1 4]\n",
            "   [4 1 4]]\n",
            "\n",
            "  [[0 2 1]\n",
            "   [1 4 3]\n",
            "   [1 4 1]]\n",
            "\n",
            "  [[2 1 0]\n",
            "   [4 3 1]\n",
            "   [4 1 0]]\n",
            "\n",
            "  [[1 0 3]\n",
            "   [3 1 4]\n",
            "   [1 0 0]]]]\n"
          ]
        }
      ],
      "source": [
        "Z = np.random.randint(0,5,(10,10))\n",
        "n = 3\n",
        "i = 1 + (Z.shape[0]-3)\n",
        "j = 1 + (Z.shape[1]-3)\n",
        "C = stride_tricks.as_strided(Z, shape=(i, j, n, n), strides=Z.strides + Z.strides)\n",
        "print(C)"
      ]
    },
    {
      "cell_type": "markdown",
      "metadata": {
        "id": "UPRDoulQb_Pu"
      },
      "source": [
        "#### 85. Create a 2D array subclass such that Z\\[i,j\\] == Z\\[j,i\\] (★★★) \n",
        "(**hint**: class method)"
      ]
    },
    {
      "cell_type": "code",
      "execution_count": null,
      "metadata": {
        "id": "ewwsK6lsb_Pu"
      },
      "outputs": [],
      "source": [
        ""
      ]
    },
    {
      "cell_type": "markdown",
      "metadata": {
        "id": "s6lhZAiSb_Pu"
      },
      "source": [
        "#### 86. Consider a set of p matrices wich shape (n,n) and a set of p vectors with shape (n,1). How to compute the sum of of the p matrix products at once? (result has shape (n,1)) (★★★) \n",
        "(**hint**: np.tensordot)"
      ]
    },
    {
      "cell_type": "code",
      "execution_count": 297,
      "metadata": {
        "id": "3j3E9HPib_Pv",
        "colab": {
          "base_uri": "https://localhost:8080/"
        },
        "outputId": "5eadfd4f-f1e5-4b2e-bd62-d08d6a16787e"
      },
      "outputs": [
        {
          "output_type": "stream",
          "name": "stdout",
          "text": [
            "[[200.]\n",
            " [200.]\n",
            " [200.]\n",
            " [200.]\n",
            " [200.]\n",
            " [200.]\n",
            " [200.]\n",
            " [200.]\n",
            " [200.]\n",
            " [200.]\n",
            " [200.]\n",
            " [200.]\n",
            " [200.]\n",
            " [200.]\n",
            " [200.]\n",
            " [200.]\n",
            " [200.]\n",
            " [200.]\n",
            " [200.]\n",
            " [200.]]\n"
          ]
        }
      ],
      "source": [
        "p, n = 10, 20\n",
        "M = np.ones((p,n,n))\n",
        "V = np.ones((p,n,1))\n",
        "S = np.tensordot(M, V, axes=[[0, 2], [0, 1]])\n",
        "print(S)"
      ]
    },
    {
      "cell_type": "markdown",
      "metadata": {
        "id": "PcLskSHXb_Pv"
      },
      "source": [
        "#### 87. Consider a 16x16 array, how to get the block-sum (block size is 4x4)? (★★★) \n",
        "(**hint**: np.add.reduceat)"
      ]
    },
    {
      "cell_type": "code",
      "execution_count": 298,
      "metadata": {
        "id": "0GePLVNIb_Pv",
        "colab": {
          "base_uri": "https://localhost:8080/"
        },
        "outputId": "773a3351-9ac1-45e6-eb4e-9d70ed12c22c"
      },
      "outputs": [
        {
          "output_type": "stream",
          "name": "stdout",
          "text": [
            "[[16. 16. 16. 16.]\n",
            " [16. 16. 16. 16.]\n",
            " [16. 16. 16. 16.]\n",
            " [16. 16. 16. 16.]]\n"
          ]
        }
      ],
      "source": [
        "Z = np.ones((16,16))\n",
        "k = 4\n",
        "S = np.add.reduceat(np.add.reduceat(Z, np.arange(0, Z.shape[0], k), axis=0),np.arange(0, Z.shape[1], k), axis=1)\n",
        "print(S)"
      ]
    },
    {
      "cell_type": "markdown",
      "metadata": {
        "id": "_yIZZ50cb_Pv"
      },
      "source": [
        "#### 88. How to implement the Game of Life using numpy arrays? (★★★)"
      ]
    },
    {
      "cell_type": "code",
      "execution_count": null,
      "metadata": {
        "id": "lHUkxgTmb_Pv"
      },
      "outputs": [],
      "source": [
        ""
      ]
    },
    {
      "cell_type": "markdown",
      "metadata": {
        "id": "hI-Tw8xYb_Pv"
      },
      "source": [
        "#### 89. How to get the n largest values of an array (★★★) \n",
        "(**hint**: np.argsort | np.argpartition)"
      ]
    },
    {
      "cell_type": "code",
      "execution_count": 299,
      "metadata": {
        "id": "rKMzzDwLb_Pv",
        "colab": {
          "base_uri": "https://localhost:8080/"
        },
        "outputId": "cc725a94-8478-4866-c9a1-445d57ede2c6"
      },
      "outputs": [
        {
          "output_type": "stream",
          "name": "stdout",
          "text": [
            "[9995 9996 9997 9998 9999]\n",
            "[9999 9998 9997 9995 9996]\n"
          ]
        }
      ],
      "source": [
        "Z = np.arange(10000)\n",
        "np.random.shuffle(Z)\n",
        "n = 5\n",
        "\n",
        "print (Z[np.argsort(Z)[-n:]])\n",
        "\n",
        "print (Z[np.argpartition(-Z,n)[:n]])"
      ]
    },
    {
      "cell_type": "markdown",
      "metadata": {
        "id": "uK5uxiiHb_Pv"
      },
      "source": [
        "#### 90. Given an arbitrary number of vectors, build the cartesian product (every combinations of every item) (★★★) \n",
        "(**hint**: np.indices)"
      ]
    },
    {
      "cell_type": "code",
      "execution_count": 300,
      "metadata": {
        "scrolled": true,
        "id": "skFWFFdGb_Pv",
        "colab": {
          "base_uri": "https://localhost:8080/"
        },
        "outputId": "9e980939-c5b0-4206-d9e8-a62c1d86fe89"
      },
      "outputs": [
        {
          "output_type": "stream",
          "name": "stdout",
          "text": [
            "[[1 4 6]\n",
            " [1 4 7]\n",
            " [1 5 6]\n",
            " [1 5 7]\n",
            " [2 4 6]\n",
            " [2 4 7]\n",
            " [2 5 6]\n",
            " [2 5 7]\n",
            " [3 4 6]\n",
            " [3 4 7]\n",
            " [3 5 6]\n",
            " [3 5 7]]\n"
          ]
        }
      ],
      "source": [
        "def cartesian(arrays):\n",
        "    arrays = [np.asarray(a) for a in arrays]\n",
        "    shape = (len(x) for x in arrays)\n",
        "\n",
        "    ix = np.indices(shape, dtype=int)\n",
        "    ix = ix.reshape(len(arrays), -1).T\n",
        "\n",
        "    for n, arr in enumerate(arrays):\n",
        "        ix[:, n] = arrays[n][ix[:, n]]\n",
        "\n",
        "    return ix\n",
        "\n",
        "print (cartesian(([1, 2, 3], [4, 5], [6, 7])))"
      ]
    },
    {
      "cell_type": "markdown",
      "metadata": {
        "id": "VMP6Sdr9b_Pv"
      },
      "source": [
        "#### 91. How to create a record array from a regular array? (★★★) \n",
        "(**hint**: np.core.records.fromarrays)"
      ]
    },
    {
      "cell_type": "code",
      "execution_count": 301,
      "metadata": {
        "id": "IGIhRsq5b_Pv",
        "colab": {
          "base_uri": "https://localhost:8080/"
        },
        "outputId": "19c150ac-471f-45c5-ffbb-8a540612617c"
      },
      "outputs": [
        {
          "output_type": "stream",
          "name": "stdout",
          "text": [
            "[(b'Hello', 2.5, 3) (b'World', 3.6, 2)]\n"
          ]
        }
      ],
      "source": [
        "Z = np.array([(\"Hello\", 2.5, 3),\n",
        "              (\"World\", 3.6, 2)])\n",
        "R = np.core.records.fromarrays(Z.T, \n",
        "                               names='col1, col2, col3',\n",
        "                               formats = 'S8, f8, i8')\n",
        "print(R)"
      ]
    },
    {
      "cell_type": "markdown",
      "metadata": {
        "id": "WgSVgsTNb_Pw"
      },
      "source": [
        "#### 92. Consider a large vector Z, compute Z to the power of 3 using 3 different methods (★★★) \n",
        "(**hint**: np.power, \\*, np.einsum)"
      ]
    },
    {
      "cell_type": "code",
      "execution_count": 305,
      "metadata": {
        "id": "kSGp8HV9b_Pw",
        "colab": {
          "base_uri": "https://localhost:8080/"
        },
        "outputId": "956134b0-a136-4c4e-c8d6-07be9af82c0f"
      },
      "outputs": [
        {
          "output_type": "stream",
          "name": "stdout",
          "text": [
            "6 ms ± 99.2 µs per loop (mean ± std. dev. of 7 runs, 100 loops each)\n",
            "150 µs ± 1.22 µs per loop (mean ± std. dev. of 7 runs, 10000 loops each)\n",
            "164 µs ± 951 ns per loop (mean ± std. dev. of 7 runs, 10000 loops each)\n"
          ]
        }
      ],
      "source": [
        "x = np.random.rand(5**7)\n",
        "\n",
        "%timeit np.power(x,3)\n",
        "%timeit x*x*x\n",
        "%timeit np.einsum('i,i,i->i',x,x,x)"
      ]
    },
    {
      "cell_type": "markdown",
      "metadata": {
        "id": "gWljaYOZb_Pw"
      },
      "source": [
        "#### 93. Consider two arrays A and B of shape (8,3) and (2,2). How to find rows of A that contain elements of each row of B regardless of the order of the elements in B? (★★★) \n",
        "(**hint**: np.where)"
      ]
    },
    {
      "cell_type": "code",
      "execution_count": 269,
      "metadata": {
        "id": "aTtFxt9wb_Pw",
        "colab": {
          "base_uri": "https://localhost:8080/"
        },
        "outputId": "63ef6609-091e-4e94-a4a1-03368374e18f"
      },
      "outputs": [
        {
          "output_type": "stream",
          "name": "stdout",
          "text": [
            "[0 1 2 3 5 6 7]\n"
          ]
        }
      ],
      "source": [
        "A = np.random.randint(0,5,(8,3))\n",
        "B = np.random.randint(0,5,(2,2))\n",
        "\n",
        "C = (A[..., np.newaxis, np.newaxis] == B)\n",
        "rows = np.where(C.any((3,1)).all(1))[0]\n",
        "print(rows)"
      ]
    },
    {
      "cell_type": "markdown",
      "metadata": {
        "id": "tH00z8YAb_Pw"
      },
      "source": [
        "#### 94. Considering a 10x3 matrix, extract rows with unequal values (e.g. \\[2,2,3\\]) (★★★)"
      ]
    },
    {
      "cell_type": "code",
      "execution_count": 268,
      "metadata": {
        "id": "hEXurIUlb_Pw",
        "colab": {
          "base_uri": "https://localhost:8080/"
        },
        "outputId": "0e16f25c-0db0-4f0c-bdcb-bcb4aa86a36b"
      },
      "outputs": [
        {
          "output_type": "stream",
          "name": "stdout",
          "text": [
            "[[1 0 3]\n",
            " [4 1 4]\n",
            " [3 3 1]\n",
            " [1 4 2]\n",
            " [4 0 3]\n",
            " [3 4 2]\n",
            " [2 1 4]\n",
            " [4 0 0]\n",
            " [3 4 0]\n",
            " [0 4 1]]\n",
            "------------\n",
            "[[1 0 3]\n",
            " [4 1 4]\n",
            " [3 3 1]\n",
            " [1 4 2]\n",
            " [4 0 3]\n",
            " [3 4 2]\n",
            " [2 1 4]\n",
            " [4 0 0]\n",
            " [3 4 0]\n",
            " [0 4 1]]\n"
          ]
        }
      ],
      "source": [
        "Z = np.random.randint(0,5,(10,3))\n",
        "print(Z,end=\"\\n------------\\n\")\n",
        "U = Z[Z.max(axis=1) != Z.min(axis=1),:]\n",
        "print(U)"
      ]
    },
    {
      "cell_type": "markdown",
      "metadata": {
        "id": "Vom2Ly4Tb_Pw"
      },
      "source": [
        "#### 95. Convert a vector of ints into a matrix binary representation (★★★) \n",
        "(**hint**: np.unpackbits)"
      ]
    },
    {
      "cell_type": "code",
      "execution_count": 262,
      "metadata": {
        "id": "CFMxX3ygb_Pw",
        "colab": {
          "base_uri": "https://localhost:8080/"
        },
        "outputId": "0f1c6c66-1e71-4804-a4da-44daf7369a7a"
      },
      "outputs": [
        {
          "output_type": "stream",
          "name": "stdout",
          "text": [
            "[[0 0 0 0 0 0 0 0]\n",
            " [0 0 0 0 0 0 0 1]\n",
            " [0 0 0 0 0 0 1 0]\n",
            " [0 0 0 0 0 0 1 1]\n",
            " [0 0 0 0 0 1 0 1]\n",
            " [0 0 0 1 0 0 0 0]\n",
            " [0 0 1 0 0 0 0 0]\n",
            " [0 1 0 0 0 0 0 0]\n",
            " [0 0 0 1 1 0 0 1]]\n"
          ]
        }
      ],
      "source": [
        "I = np.array([0, 1, 2, 3, 5, 16, 32, 64, 25], dtype=np.uint8)\n",
        "print(np.unpackbits(I[:, np.newaxis], axis=1))"
      ]
    },
    {
      "cell_type": "markdown",
      "metadata": {
        "id": "ALwGpq6_b_Pw"
      },
      "source": [
        "#### 96. Given a two dimensional array, how to extract unique rows? (★★★) \n",
        "(**hint**: np.ascontiguousarray)"
      ]
    },
    {
      "cell_type": "code",
      "execution_count": 259,
      "metadata": {
        "id": "F_00fj9wb_Pw",
        "colab": {
          "base_uri": "https://localhost:8080/"
        },
        "outputId": "a2b2689c-9e43-4468-d428-bdc09b2b6661"
      },
      "outputs": [
        {
          "output_type": "stream",
          "name": "stdout",
          "text": [
            "[[0 0 0]\n",
            " [0 1 0]\n",
            " [0 1 1]\n",
            " [1 0 1]\n",
            " [1 1 1]]\n"
          ]
        }
      ],
      "source": [
        "Z = np.random.randint(0,2,(6,3))\n",
        "T = np.ascontiguousarray(Z).view(np.dtype((np.void, Z.dtype.itemsize * Z.shape[1])))\n",
        "_, idx = np.unique(T, return_index=True)\n",
        "u = Z[idx]\n",
        "print(u)"
      ]
    },
    {
      "cell_type": "markdown",
      "metadata": {
        "id": "dQ02rbNXb_Pw"
      },
      "source": [
        "#### 97. Considering 2 vectors A & B, write the einsum equivalent of inner, outer, sum, and mul function (★★★) \n",
        "(**hint**: np.einsum)"
      ]
    },
    {
      "cell_type": "code",
      "execution_count": 255,
      "metadata": {
        "id": "xAJobxKlb_Pw",
        "colab": {
          "base_uri": "https://localhost:8080/"
        },
        "outputId": "d7e5126f-6416-4635-e462-7e6c0e6b02ac"
      },
      "outputs": [
        {
          "output_type": "stream",
          "name": "stdout",
          "text": [
            "A:\n",
            " [4.29659467 4.82815568 2.63191757 4.92205358 4.99887269 0.37973549\n",
            " 1.61950343 0.37429746 1.04929309 0.15004637]\n",
            "B:\n",
            " [3.19215654 3.47673459 0.38069598 2.00455785 0.84649686 3.50523249\n",
            " 3.15654033 3.90292356 3.64391829 2.91908237]\n",
            "-----------\n",
            "25.250470038575493\n",
            "------\n",
            "[13.7154028  16.78621587  1.00196044  9.86654116  4.23153005  1.33106118\n",
            "  5.11202789  1.46085438  3.82353829  0.43799772]\n",
            "------\n",
            "57.76712977377342\n",
            "------\n",
            "[[13.7154028  14.93811934  1.63569631  8.6127726   3.63705391 15.06056325\n",
            "  13.56237437 16.76928056 15.65643993 12.54211377]\n",
            " [15.41222874 16.78621587  1.83805945  9.67831738  4.08701863 16.92380815\n",
            "  15.24026811 18.84392252 17.5934048  14.09378413]\n",
            " [ 8.4014929   9.15047887  1.00196044  5.27583104  2.22790997  9.22548298\n",
            "   8.30775396 10.27217308  9.59049259  7.68278419]\n",
            " [15.71196554 17.11267396  1.87380601  9.86654116  4.16650291 17.25294213\n",
            "  15.53666063 19.21039886 17.93556109 14.36787984]\n",
            " [15.95718417 17.37975362  1.90305073 10.02052951  4.23153005 17.52221097\n",
            "  15.77914325 19.51021798 18.21548365 14.59212115]\n",
            " [ 1.21217513  1.32023952  0.14456377  0.76120176  0.3214449   1.33106118\n",
            "   1.19865039  1.48207859  1.3837251   1.10847918]\n",
            " [ 5.16970847  5.6305836   0.61653844  3.24638832  1.37090457  5.67673604\n",
            "   5.11202789  6.32079808  5.90133817  4.72746391]\n",
            " [ 1.19481609  1.30133294  0.14249354  0.75030092  0.31684163  1.31199963\n",
            "   1.18148504  1.46085438  1.36390937  1.09260513]\n",
            " [ 3.34950781  3.64811359  0.39946166  2.10336871  0.88822331  3.67801624\n",
            "   3.31213596  4.09531072  3.82353829  3.06297297]\n",
            " [ 0.47897151  0.52167141  0.05712205  0.30077663  0.12701378  0.52594742\n",
            "   0.47362742  0.58561952  0.54675672  0.43799772]]\n",
            "------\n"
          ]
        }
      ],
      "source": [
        "A = np.random.uniform(0,5,10)\n",
        "B = np.random.uniform(0,5,10)\n",
        "print(\"A:\\n\",A)\n",
        "print(\"B:\\n\",B)\n",
        "print(\"-----------\")\n",
        "print(np.einsum('i->', A),end=\"\\n------\\n\" )      # np.sum(A)\n",
        "print(np.einsum('i,i->i', A, B),end=\"\\n------\\n\" ) # A * B\n",
        "print(np.einsum('i,i', A, B),end=\"\\n------\\n\" )    # np.inner(A, B)\n",
        "print(np.einsum('i,j->ij', A, B),end=\"\\n------\\n\" )    # np.outer(A, B)"
      ]
    },
    {
      "cell_type": "markdown",
      "metadata": {
        "id": "cDfO9Jxlb_Px"
      },
      "source": [
        "#### 98. Considering a path described by two vectors (X,Y), how to sample it using equidistant samples (★★★)? \n",
        "(**hint**: np.cumsum, np.interp)"
      ]
    },
    {
      "cell_type": "code",
      "execution_count": null,
      "metadata": {
        "collapsed": true,
        "id": "ibMRqc6Vb_Px"
      },
      "outputs": [],
      "source": [
        ""
      ]
    },
    {
      "cell_type": "markdown",
      "metadata": {
        "id": "cObtbIUub_Px"
      },
      "source": [
        "#### 99. Given an integer n and a 2D array X, select from X the rows which can be interpreted as draws from a multinomial distribution with n degrees, i.e., the rows which only contain integers and which sum to n. (★★★) \n",
        "(**hint**: np.logical\\_and.reduce, np.mod)"
      ]
    },
    {
      "cell_type": "code",
      "execution_count": 249,
      "metadata": {
        "id": "dbWhg54Gb_Px",
        "colab": {
          "base_uri": "https://localhost:8080/"
        },
        "outputId": "90cd37f9-52ac-420f-da24-15ad4b744092"
      },
      "outputs": [
        {
          "output_type": "stream",
          "name": "stdout",
          "text": [
            "[[2. 0. 1. 1.]]\n"
          ]
        }
      ],
      "source": [
        "X = np.asarray([[1.0, 0.0, 3.0, 8.0],\n",
        "                [2.0, 0.0, 1.0, 1.0],\n",
        "                [1.5, 2.5, 1.0, 0.0]])\n",
        "n = 4\n",
        "M = np.logical_and.reduce(np.mod(X, 1) == 0, axis=-1)\n",
        "M &= (X.sum(axis=-1) == n)\n",
        "print(X[M])"
      ]
    },
    {
      "cell_type": "markdown",
      "metadata": {
        "id": "dYyt2Qdbb_Px"
      },
      "source": [
        "#### 100. Compute bootstrapped 95% confidence intervals for the mean of a 1D array X (i.e., resample the elements of an array with replacement N times, compute the mean of each sample, and then compute percentiles over the means). (★★★) \n",
        "(**hint**: np.percentile)"
      ]
    },
    {
      "cell_type": "code",
      "execution_count": 245,
      "metadata": {
        "id": "HtYA_0YXb_Px",
        "colab": {
          "base_uri": "https://localhost:8080/"
        },
        "outputId": "b81b614c-c411-47ff-eaf3-a5cf66b5fee1"
      },
      "outputs": [
        {
          "output_type": "stream",
          "name": "stdout",
          "text": [
            "[-0.22104333  0.16524766]\n"
          ]
        }
      ],
      "source": [
        "X = np.random.randn(100)\n",
        "#print(x)\n",
        "N = 1000 \n",
        "idx = np.random.randint(0, X.size, (N, X.size))\n",
        "#print(idx)\n",
        "means = X[idx].mean(axis=1)\n",
        "#print(means)\n",
        "per = np.percentile(means, [2.5, 97.5])\n",
        "print(per)"
      ]
    }
  ],
  "metadata": {
    "kernelspec": {
      "display_name": "Python 3",
      "language": "python",
      "name": "python3"
    },
    "language_info": {
      "codemirror_mode": {
        "name": "ipython",
        "version": 3
      },
      "file_extension": ".py",
      "mimetype": "text/x-python",
      "name": "python",
      "nbconvert_exporter": "python",
      "pygments_lexer": "ipython3",
      "version": "3.8.3"
    },
    "colab": {
      "name": "Numpy_tasks.ipynb",
      "provenance": [],
      "collapsed_sections": [
        "F2zfVonqb_Pl",
        "YZXEd0nmb_Pn",
        "4H_GxZXob_Pq",
        "LJZLg_1ab_Ps",
        "m0wp5ecbb_Ps",
        "ENsM5TX2b_Pt",
        "ifaiOWlpb_Pt",
        "ZSTUmcWPb_Pt",
        "_yIZZ50cb_Pv",
        "cDfO9Jxlb_Px"
      ]
    }
  },
  "nbformat": 4,
  "nbformat_minor": 0
}